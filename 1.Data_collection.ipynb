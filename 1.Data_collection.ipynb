{
 "cells": [
  {
   "cell_type": "code",
   "execution_count": 1,
   "metadata": {},
   "outputs": [],
   "source": [
    "#pip install yfinance"
   ]
  },
  {
   "cell_type": "code",
   "execution_count": 2,
   "metadata": {},
   "outputs": [],
   "source": [
    "# Import necessary libraries\n",
    "import numpy as np\n",
    "import pandas as pd\n",
    "import yfinance as yf\n"
   ]
  },
  {
   "cell_type": "code",
   "execution_count": 3,
   "metadata": {},
   "outputs": [
    {
     "name": "stdout",
     "output_type": "stream",
     "text": [
      "[*********************100%***********************]  1 of 1 completed\n"
     ]
    },
    {
     "data": {
      "text/plain": [
       "<bound method DataFrame.info of                Open     High      Low    Close  Adj Close  Volume\n",
       "Date                                                             \n",
       "2015-01-01  1.40496  1.40496  1.40496  1.40496    1.40496       0\n",
       "2015-01-02  1.40433  1.41050  1.40220  1.40445    1.40445       0\n",
       "2015-01-05  1.40944  1.41125  1.40210  1.40850    1.40850       0\n",
       "2015-01-06  1.40330  1.40613  1.39960  1.40330    1.40330       0\n",
       "2015-01-07  1.40530  1.40894  1.39769  1.40550    1.40550       0\n",
       "...             ...      ...      ...      ...        ...     ...\n",
       "2022-03-02  1.41635  1.41667  1.40367  1.41643    1.41643       0\n",
       "2022-03-03  1.40538  1.40538  1.39664  1.40531    1.40531       0\n",
       "2022-03-04  1.40207  1.40314  1.39208  1.40218    1.40218       0\n",
       "2022-03-07  1.38218  1.39280  1.37637  1.38239    1.38239       0\n",
       "2022-03-08  1.39078  1.40387  1.38985  1.39050    1.39050       0\n",
       "\n",
       "[1872 rows x 6 columns]>"
      ]
     },
     "execution_count": 3,
     "metadata": {},
     "output_type": "execute_result"
    }
   ],
   "source": [
    "# Fetch the EUR/CAD exchange rate data from Yahoo Finance\n",
    "eur_cad = yf.download('EURCAD=X', start='2015-01-01', end='2022-03-09')\n",
    "\n",
    "# Save the data to CSV file\n",
    "eur_cad.to_csv('eur_cad.csv')\n",
    "\n",
    "eur_cad.head()\n",
    "\n",
    "eur_cad.info"
   ]
  },
  {
   "attachments": {},
   "cell_type": "markdown",
   "metadata": {},
   "source": [
    "# Column info\n",
    "## Adj close\n",
    "\n",
    "\"Adj Close\" column in the EUR/CAD CSV file provided by yfinance refers to the adjusted closing price of the EUR/CAD currency pair on a given day.\n",
    "\n",
    "The adjusted closing price is calculated by taking into account any corporate actions or events that affect the price of the stock, such as stock splits, dividends, and stock buybacks. These events can cause significant fluctuations in the stock price, and the adjusted closing price provides a more accurate representation of the true value of the stock.\n",
    "\n",
    "In the case of currency pairs, there are no corporate actions that affect the price, but the adjusted closing price may still be calculated to take into account any exchange rate adjustments made by the central bank or other regulatory authorities.\n",
    "\n",
    "The \"Adj Close\" column can be useful for technical analysis and charting, as it provides a more accurate view of the historical price movements of the currency pair.\n",
    "\n",
    "## Volume\n",
    "\n",
    "the \"Volume\" column in the EUR/CAD CSV file provided by yfinance refers to the total number of units of the currency pair that were traded on a given day.\n",
    "\n",
    "The volume can be used to gauge the level of market activity and liquidity in the currency pair. Higher volumes usually indicate a higher level of interest and participation from traders and investors, while lower volumes may indicate a lack of interest or a decrease in market activity.\n",
    "\n",
    "In technical analysis, the volume is often used in conjunction with other indicators to identify potential price movements and trends in the market.\n"
   ]
  },
  {
   "attachments": {},
   "cell_type": "markdown",
   "metadata": {},
   "source": [
    "# Volumn column investigation 🔎"
   ]
  },
  {
   "attachments": {},
   "cell_type": "markdown",
   "metadata": {},
   "source": [
    "Thanks to the info, Volumn column seems to always be equal to 0, let's verify"
   ]
  },
  {
   "cell_type": "code",
   "execution_count": 4,
   "metadata": {},
   "outputs": [
    {
     "data": {
      "text/plain": [
       "0"
      ]
     },
     "execution_count": 4,
     "metadata": {},
     "output_type": "execute_result"
    }
   ],
   "source": [
    "mask = (eur_cad.Volume != 0)\n",
    "volum_eur_cad = eur_cad.loc[mask]\n",
    "volum_eur_cad.size"
   ]
  },
  {
   "attachments": {},
   "cell_type": "markdown",
   "metadata": {},
   "source": [
    "➡️ Volumn column can be removed"
   ]
  },
  {
   "cell_type": "code",
   "execution_count": 7,
   "metadata": {},
   "outputs": [
    {
     "name": "stdout",
     "output_type": "stream",
     "text": [
      "               Open     High      Low    Close  Adj Close\n",
      "Date                                                     \n",
      "2015-01-01  1.40496  1.40496  1.40496  1.40496    1.40496\n",
      "2015-01-02  1.40433  1.41050  1.40220  1.40445    1.40445\n",
      "2015-01-05  1.40944  1.41125  1.40210  1.40850    1.40850\n",
      "2015-01-06  1.40330  1.40613  1.39960  1.40330    1.40330\n",
      "2015-01-07  1.40530  1.40894  1.39769  1.40550    1.40550\n",
      "...             ...      ...      ...      ...        ...\n",
      "2022-03-02  1.41635  1.41667  1.40367  1.41643    1.41643\n",
      "2022-03-03  1.40538  1.40538  1.39664  1.40531    1.40531\n",
      "2022-03-04  1.40207  1.40314  1.39208  1.40218    1.40218\n",
      "2022-03-07  1.38218  1.39280  1.37637  1.38239    1.38239\n",
      "2022-03-08  1.39078  1.40387  1.38985  1.39050    1.39050\n",
      "\n",
      "[1872 rows x 5 columns]\n"
     ]
    }
   ],
   "source": [
    "# drop the 'B' column\n",
    "eur_cad = eur_cad.drop('Volume', axis=1) #axis=1 because we want to drop a column, axis=0 is for a row\n",
    "print(eur_cad)"
   ]
  },
  {
   "attachments": {},
   "cell_type": "markdown",
   "metadata": {},
   "source": [
    "# General Data Preprocessing"
   ]
  },
  {
   "cell_type": "code",
   "execution_count": 8,
   "metadata": {},
   "outputs": [],
   "source": [
    "# check for missing values\n",
    "if eur_cad.isna().sum().sum() > 0:\n",
    "    print(\"There are missing values in the dataset.\")"
   ]
  },
  {
   "attachments": {},
   "cell_type": "markdown",
   "metadata": {},
   "source": [
    "➡️ No missing values"
   ]
  },
  {
   "cell_type": "code",
   "execution_count": 9,
   "metadata": {},
   "outputs": [],
   "source": [
    "# check for duplicates\n",
    "if eur_cad.duplicated().sum() > 0:\n",
    "    print(\"There are duplicate rows in the dataset.\")\n",
    "    # if there are duplicates, you can remove those rows"
   ]
  },
  {
   "attachments": {},
   "cell_type": "markdown",
   "metadata": {},
   "source": [
    "➡️ No duplicates"
   ]
  },
  {
   "cell_type": "code",
   "execution_count": 13,
   "metadata": {},
   "outputs": [
    {
     "name": "stdout",
     "output_type": "stream",
     "text": [
      "21 outliers found in column Open.\n",
      "14 outliers found in column High.\n",
      "23 outliers found in column Low.\n",
      "18 outliers found in column Close.\n",
      "18 outliers found in column Adj Close.\n"
     ]
    }
   ],
   "source": [
    "# check for outliers\n",
    "numeric_cols = eur_cad.select_dtypes(include=[np.number]).columns.tolist()\n",
    "for col in numeric_cols:\n",
    "    q1 = eur_cad[col].quantile(0.25)\n",
    "    q3 = eur_cad[col].quantile(0.75)\n",
    "    iqr = q3 - q1\n",
    "    lower_bound = q1 - 1.5 * iqr\n",
    "    upper_bound = q3 + 1.5 * iqr\n",
    "    outliers = eur_cad[(eur_cad[col] < lower_bound) | (eur_cad[col] > upper_bound)]\n",
    "    if outliers.shape[0] > 0:\n",
    "        print(f\"{outliers.shape[0]} outliers found in column {col}.\")"
   ]
  },
  {
   "cell_type": "code",
   "execution_count": 14,
   "metadata": {},
   "outputs": [
    {
     "data": {
      "text/html": [
       "<div>\n",
       "<style scoped>\n",
       "    .dataframe tbody tr th:only-of-type {\n",
       "        vertical-align: middle;\n",
       "    }\n",
       "\n",
       "    .dataframe tbody tr th {\n",
       "        vertical-align: top;\n",
       "    }\n",
       "\n",
       "    .dataframe thead th {\n",
       "        text-align: right;\n",
       "    }\n",
       "</style>\n",
       "<table border=\"1\" class=\"dataframe\">\n",
       "  <thead>\n",
       "    <tr style=\"text-align: right;\">\n",
       "      <th></th>\n",
       "      <th>Open</th>\n",
       "      <th>High</th>\n",
       "      <th>Low</th>\n",
       "      <th>Close</th>\n",
       "      <th>Adj Close</th>\n",
       "    </tr>\n",
       "    <tr>\n",
       "      <th>Date</th>\n",
       "      <th></th>\n",
       "      <th></th>\n",
       "      <th></th>\n",
       "      <th></th>\n",
       "      <th></th>\n",
       "    </tr>\n",
       "  </thead>\n",
       "  <tbody>\n",
       "    <tr>\n",
       "      <th>2015-03-12</th>\n",
       "      <td>1.34360</td>\n",
       "      <td>1.35002</td>\n",
       "      <td>1.33947</td>\n",
       "      <td>1.34365</td>\n",
       "      <td>1.34365</td>\n",
       "    </tr>\n",
       "    <tr>\n",
       "      <th>2015-03-16</th>\n",
       "      <td>1.34350</td>\n",
       "      <td>1.35640</td>\n",
       "      <td>1.34210</td>\n",
       "      <td>1.34332</td>\n",
       "      <td>1.34332</td>\n",
       "    </tr>\n",
       "    <tr>\n",
       "      <th>2015-04-10</th>\n",
       "      <td>1.34180</td>\n",
       "      <td>1.34425</td>\n",
       "      <td>1.33400</td>\n",
       "      <td>1.34160</td>\n",
       "      <td>1.34160</td>\n",
       "    </tr>\n",
       "    <tr>\n",
       "      <th>2015-04-13</th>\n",
       "      <td>1.33382</td>\n",
       "      <td>1.33757</td>\n",
       "      <td>1.32980</td>\n",
       "      <td>1.33336</td>\n",
       "      <td>1.33336</td>\n",
       "    </tr>\n",
       "    <tr>\n",
       "      <th>2015-04-14</th>\n",
       "      <td>1.33120</td>\n",
       "      <td>1.33680</td>\n",
       "      <td>1.32550</td>\n",
       "      <td>1.33129</td>\n",
       "      <td>1.33129</td>\n",
       "    </tr>\n",
       "    <tr>\n",
       "      <th>2015-04-15</th>\n",
       "      <td>1.32869</td>\n",
       "      <td>1.33673</td>\n",
       "      <td>1.31140</td>\n",
       "      <td>1.32882</td>\n",
       "      <td>1.32882</td>\n",
       "    </tr>\n",
       "    <tr>\n",
       "      <th>2015-04-16</th>\n",
       "      <td>1.31350</td>\n",
       "      <td>1.32180</td>\n",
       "      <td>1.30760</td>\n",
       "      <td>1.31369</td>\n",
       "      <td>1.31369</td>\n",
       "    </tr>\n",
       "    <tr>\n",
       "      <th>2015-04-17</th>\n",
       "      <td>1.31240</td>\n",
       "      <td>1.31932</td>\n",
       "      <td>1.30260</td>\n",
       "      <td>1.31270</td>\n",
       "      <td>1.31270</td>\n",
       "    </tr>\n",
       "    <tr>\n",
       "      <th>2015-04-20</th>\n",
       "      <td>1.31931</td>\n",
       "      <td>1.31974</td>\n",
       "      <td>1.31030</td>\n",
       "      <td>1.31955</td>\n",
       "      <td>1.31955</td>\n",
       "    </tr>\n",
       "    <tr>\n",
       "      <th>2015-04-21</th>\n",
       "      <td>1.31422</td>\n",
       "      <td>1.32080</td>\n",
       "      <td>1.30604</td>\n",
       "      <td>1.31377</td>\n",
       "      <td>1.31377</td>\n",
       "    </tr>\n",
       "    <tr>\n",
       "      <th>2015-04-22</th>\n",
       "      <td>1.31740</td>\n",
       "      <td>1.31985</td>\n",
       "      <td>1.31177</td>\n",
       "      <td>1.31770</td>\n",
       "      <td>1.31770</td>\n",
       "    </tr>\n",
       "    <tr>\n",
       "      <th>2015-04-23</th>\n",
       "      <td>1.31270</td>\n",
       "      <td>1.31794</td>\n",
       "      <td>1.30780</td>\n",
       "      <td>1.31290</td>\n",
       "      <td>1.31290</td>\n",
       "    </tr>\n",
       "    <tr>\n",
       "      <th>2015-04-24</th>\n",
       "      <td>1.31360</td>\n",
       "      <td>1.32353</td>\n",
       "      <td>1.31080</td>\n",
       "      <td>1.31360</td>\n",
       "      <td>1.31360</td>\n",
       "    </tr>\n",
       "    <tr>\n",
       "      <th>2015-04-27</th>\n",
       "      <td>1.32255</td>\n",
       "      <td>1.32364</td>\n",
       "      <td>1.31300</td>\n",
       "      <td>1.32244</td>\n",
       "      <td>1.32244</td>\n",
       "    </tr>\n",
       "    <tr>\n",
       "      <th>2015-04-28</th>\n",
       "      <td>1.31510</td>\n",
       "      <td>1.32221</td>\n",
       "      <td>1.31457</td>\n",
       "      <td>1.31542</td>\n",
       "      <td>1.31542</td>\n",
       "    </tr>\n",
       "    <tr>\n",
       "      <th>2015-04-29</th>\n",
       "      <td>1.32048</td>\n",
       "      <td>1.33605</td>\n",
       "      <td>1.31870</td>\n",
       "      <td>1.31990</td>\n",
       "      <td>1.31990</td>\n",
       "    </tr>\n",
       "    <tr>\n",
       "      <th>2015-04-30</th>\n",
       "      <td>1.33550</td>\n",
       "      <td>1.36003</td>\n",
       "      <td>1.33250</td>\n",
       "      <td>1.33560</td>\n",
       "      <td>1.33560</td>\n",
       "    </tr>\n",
       "    <tr>\n",
       "      <th>2015-05-13</th>\n",
       "      <td>1.34657</td>\n",
       "      <td>1.35990</td>\n",
       "      <td>1.34290</td>\n",
       "      <td>1.34650</td>\n",
       "      <td>1.34650</td>\n",
       "    </tr>\n",
       "  </tbody>\n",
       "</table>\n",
       "</div>"
      ],
      "text/plain": [
       "               Open     High      Low    Close  Adj Close\n",
       "Date                                                     \n",
       "2015-03-12  1.34360  1.35002  1.33947  1.34365    1.34365\n",
       "2015-03-16  1.34350  1.35640  1.34210  1.34332    1.34332\n",
       "2015-04-10  1.34180  1.34425  1.33400  1.34160    1.34160\n",
       "2015-04-13  1.33382  1.33757  1.32980  1.33336    1.33336\n",
       "2015-04-14  1.33120  1.33680  1.32550  1.33129    1.33129\n",
       "2015-04-15  1.32869  1.33673  1.31140  1.32882    1.32882\n",
       "2015-04-16  1.31350  1.32180  1.30760  1.31369    1.31369\n",
       "2015-04-17  1.31240  1.31932  1.30260  1.31270    1.31270\n",
       "2015-04-20  1.31931  1.31974  1.31030  1.31955    1.31955\n",
       "2015-04-21  1.31422  1.32080  1.30604  1.31377    1.31377\n",
       "2015-04-22  1.31740  1.31985  1.31177  1.31770    1.31770\n",
       "2015-04-23  1.31270  1.31794  1.30780  1.31290    1.31290\n",
       "2015-04-24  1.31360  1.32353  1.31080  1.31360    1.31360\n",
       "2015-04-27  1.32255  1.32364  1.31300  1.32244    1.32244\n",
       "2015-04-28  1.31510  1.32221  1.31457  1.31542    1.31542\n",
       "2015-04-29  1.32048  1.33605  1.31870  1.31990    1.31990\n",
       "2015-04-30  1.33550  1.36003  1.33250  1.33560    1.33560\n",
       "2015-05-13  1.34657  1.35990  1.34290  1.34650    1.34650"
      ]
     },
     "execution_count": 14,
     "metadata": {},
     "output_type": "execute_result"
    }
   ],
   "source": [
    "outliers"
   ]
  },
  {
   "attachments": {},
   "cell_type": "markdown",
   "metadata": {},
   "source": [
    "➡️ Not seem to be anomalies"
   ]
  }
 ],
 "metadata": {
  "kernelspec": {
   "display_name": "Python 3",
   "language": "python",
   "name": "python3"
  },
  "language_info": {
   "codemirror_mode": {
    "name": "ipython",
    "version": 3
   },
   "file_extension": ".py",
   "mimetype": "text/x-python",
   "name": "python",
   "nbconvert_exporter": "python",
   "pygments_lexer": "ipython3",
   "version": "3.10.10"
  },
  "orig_nbformat": 4
 },
 "nbformat": 4,
 "nbformat_minor": 2
}
