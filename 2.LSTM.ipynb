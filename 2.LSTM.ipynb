{
 "cells": [
  {
   "attachments": {},
   "cell_type": "markdown",
   "metadata": {},
   "source": [
    "# Introduction\n",
    "\n",
    "In this file we are trying to implement an LSTM model for EUR/CAD exchange rate prediction"
   ]
  },
  {
   "cell_type": "code",
   "execution_count": 99,
   "metadata": {},
   "outputs": [
    {
     "name": "stdout",
     "output_type": "stream",
     "text": [
      "[*********************100%***********************]  1 of 1 completed\n"
     ]
    },
    {
     "data": {
      "text/html": [
       "<div>\n",
       "<style scoped>\n",
       "    .dataframe tbody tr th:only-of-type {\n",
       "        vertical-align: middle;\n",
       "    }\n",
       "\n",
       "    .dataframe tbody tr th {\n",
       "        vertical-align: top;\n",
       "    }\n",
       "\n",
       "    .dataframe thead th {\n",
       "        text-align: right;\n",
       "    }\n",
       "</style>\n",
       "<table border=\"1\" class=\"dataframe\">\n",
       "  <thead>\n",
       "    <tr style=\"text-align: right;\">\n",
       "      <th></th>\n",
       "      <th>Open</th>\n",
       "      <th>High</th>\n",
       "      <th>Low</th>\n",
       "      <th>Close</th>\n",
       "      <th>Adj Close</th>\n",
       "    </tr>\n",
       "    <tr>\n",
       "      <th>Date</th>\n",
       "      <th></th>\n",
       "      <th></th>\n",
       "      <th></th>\n",
       "      <th></th>\n",
       "      <th></th>\n",
       "    </tr>\n",
       "  </thead>\n",
       "  <tbody>\n",
       "    <tr>\n",
       "      <th>2015-01-01</th>\n",
       "      <td>1.40496</td>\n",
       "      <td>1.40496</td>\n",
       "      <td>1.40496</td>\n",
       "      <td>1.40496</td>\n",
       "      <td>1.40496</td>\n",
       "    </tr>\n",
       "    <tr>\n",
       "      <th>2015-01-02</th>\n",
       "      <td>1.40433</td>\n",
       "      <td>1.41050</td>\n",
       "      <td>1.40220</td>\n",
       "      <td>1.40445</td>\n",
       "      <td>1.40445</td>\n",
       "    </tr>\n",
       "    <tr>\n",
       "      <th>2015-01-05</th>\n",
       "      <td>1.40944</td>\n",
       "      <td>1.41125</td>\n",
       "      <td>1.40210</td>\n",
       "      <td>1.40850</td>\n",
       "      <td>1.40850</td>\n",
       "    </tr>\n",
       "    <tr>\n",
       "      <th>2015-01-06</th>\n",
       "      <td>1.40330</td>\n",
       "      <td>1.40613</td>\n",
       "      <td>1.39960</td>\n",
       "      <td>1.40330</td>\n",
       "      <td>1.40330</td>\n",
       "    </tr>\n",
       "    <tr>\n",
       "      <th>2015-01-07</th>\n",
       "      <td>1.40530</td>\n",
       "      <td>1.40894</td>\n",
       "      <td>1.39769</td>\n",
       "      <td>1.40550</td>\n",
       "      <td>1.40550</td>\n",
       "    </tr>\n",
       "    <tr>\n",
       "      <th>...</th>\n",
       "      <td>...</td>\n",
       "      <td>...</td>\n",
       "      <td>...</td>\n",
       "      <td>...</td>\n",
       "      <td>...</td>\n",
       "    </tr>\n",
       "    <tr>\n",
       "      <th>2022-03-02</th>\n",
       "      <td>1.41635</td>\n",
       "      <td>1.41667</td>\n",
       "      <td>1.40367</td>\n",
       "      <td>1.41643</td>\n",
       "      <td>1.41643</td>\n",
       "    </tr>\n",
       "    <tr>\n",
       "      <th>2022-03-03</th>\n",
       "      <td>1.40538</td>\n",
       "      <td>1.40538</td>\n",
       "      <td>1.39664</td>\n",
       "      <td>1.40531</td>\n",
       "      <td>1.40531</td>\n",
       "    </tr>\n",
       "    <tr>\n",
       "      <th>2022-03-04</th>\n",
       "      <td>1.40207</td>\n",
       "      <td>1.40314</td>\n",
       "      <td>1.39208</td>\n",
       "      <td>1.40218</td>\n",
       "      <td>1.40218</td>\n",
       "    </tr>\n",
       "    <tr>\n",
       "      <th>2022-03-07</th>\n",
       "      <td>1.38218</td>\n",
       "      <td>1.39280</td>\n",
       "      <td>1.37637</td>\n",
       "      <td>1.38239</td>\n",
       "      <td>1.38239</td>\n",
       "    </tr>\n",
       "    <tr>\n",
       "      <th>2022-03-08</th>\n",
       "      <td>1.39078</td>\n",
       "      <td>1.40387</td>\n",
       "      <td>1.38985</td>\n",
       "      <td>1.39050</td>\n",
       "      <td>1.39050</td>\n",
       "    </tr>\n",
       "  </tbody>\n",
       "</table>\n",
       "<p>1872 rows × 5 columns</p>\n",
       "</div>"
      ],
      "text/plain": [
       "               Open     High      Low    Close  Adj Close\n",
       "Date                                                     \n",
       "2015-01-01  1.40496  1.40496  1.40496  1.40496    1.40496\n",
       "2015-01-02  1.40433  1.41050  1.40220  1.40445    1.40445\n",
       "2015-01-05  1.40944  1.41125  1.40210  1.40850    1.40850\n",
       "2015-01-06  1.40330  1.40613  1.39960  1.40330    1.40330\n",
       "2015-01-07  1.40530  1.40894  1.39769  1.40550    1.40550\n",
       "...             ...      ...      ...      ...        ...\n",
       "2022-03-02  1.41635  1.41667  1.40367  1.41643    1.41643\n",
       "2022-03-03  1.40538  1.40538  1.39664  1.40531    1.40531\n",
       "2022-03-04  1.40207  1.40314  1.39208  1.40218    1.40218\n",
       "2022-03-07  1.38218  1.39280  1.37637  1.38239    1.38239\n",
       "2022-03-08  1.39078  1.40387  1.38985  1.39050    1.39050\n",
       "\n",
       "[1872 rows x 5 columns]"
      ]
     },
     "execution_count": 99,
     "metadata": {},
     "output_type": "execute_result"
    }
   ],
   "source": [
    "# General code to use to get our eur cad dataframe cleaned\n",
    "import numpy as np\n",
    "import pandas as pd\n",
    "import yfinance as yf\n",
    "\n",
    "eur_cad = yf.download('EURCAD=X', start='2015-01-01', end='2022-03-09')\n",
    "eur_cad.to_csv('eur_cad.csv')\n",
    "eur_cad = eur_cad.drop('Volume', axis=1) \n",
    "eur_cad"
   ]
  },
  {
   "cell_type": "code",
   "execution_count": 114,
   "metadata": {},
   "outputs": [
    {
     "name": "stdout",
     "output_type": "stream",
     "text": [
      "Model: \"sequential_15\"\n",
      "_________________________________________________________________\n",
      " Layer (type)                Output Shape              Param #   \n",
      "=================================================================\n",
      " lstm_40 (LSTM)              (None, 60, 50)            10400     \n",
      "                                                                 \n",
      " dropout_20 (Dropout)        (None, 60, 50)            0         \n",
      "                                                                 \n",
      " lstm_41 (LSTM)              (None, 60, 50)            20200     \n",
      "                                                                 \n",
      " dropout_21 (Dropout)        (None, 60, 50)            0         \n",
      "                                                                 \n",
      " lstm_42 (LSTM)              (None, 60, 50)            20200     \n",
      "                                                                 \n",
      " dropout_22 (Dropout)        (None, 60, 50)            0         \n",
      "                                                                 \n",
      " lstm_43 (LSTM)              (None, 50)                20200     \n",
      "                                                                 \n",
      " dropout_23 (Dropout)        (None, 50)                0         \n",
      "                                                                 \n",
      " dense_15 (Dense)            (None, 1)                 51        \n",
      "                                                                 \n",
      "=================================================================\n",
      "Total params: 71,051\n",
      "Trainable params: 71,051\n",
      "Non-trainable params: 0\n",
      "_________________________________________________________________\n",
      "Epoch 1/100\n",
      "46/46 [==============================] - 16s 106ms/step - loss: 0.0408\n",
      "Epoch 2/100\n",
      "46/46 [==============================] - 6s 132ms/step - loss: 0.0110\n",
      "Epoch 3/100\n",
      "46/46 [==============================] - 5s 118ms/step - loss: 0.0095\n",
      "Epoch 4/100\n",
      "46/46 [==============================] - 5s 105ms/step - loss: 0.0087\n",
      "Epoch 5/100\n",
      "46/46 [==============================] - 6s 123ms/step - loss: 0.0079\n",
      "Epoch 6/100\n",
      "46/46 [==============================] - 6s 136ms/step - loss: 0.0076\n",
      "Epoch 7/100\n",
      "46/46 [==============================] - 5s 112ms/step - loss: 0.0071\n",
      "Epoch 8/100\n",
      "46/46 [==============================] - 5s 109ms/step - loss: 0.0068\n",
      "Epoch 9/100\n",
      "46/46 [==============================] - 5s 106ms/step - loss: 0.0071\n",
      "Epoch 10/100\n",
      "46/46 [==============================] - 5s 104ms/step - loss: 0.0065\n",
      "Epoch 11/100\n",
      "46/46 [==============================] - 5s 104ms/step - loss: 0.0067\n",
      "Epoch 12/100\n",
      "46/46 [==============================] - 5s 116ms/step - loss: 0.0066\n",
      "Epoch 13/100\n",
      "46/46 [==============================] - 6s 124ms/step - loss: 0.0059\n",
      "Epoch 14/100\n",
      "46/46 [==============================] - 6s 120ms/step - loss: 0.0062\n",
      "Epoch 15/100\n",
      "46/46 [==============================] - 6s 131ms/step - loss: 0.0050\n",
      "Epoch 16/100\n",
      "46/46 [==============================] - 5s 119ms/step - loss: 0.0053\n",
      "Epoch 17/100\n",
      "46/46 [==============================] - 7s 142ms/step - loss: 0.0047\n",
      "Epoch 18/100\n",
      "46/46 [==============================] - 6s 132ms/step - loss: 0.0048\n",
      "Epoch 19/100\n",
      "46/46 [==============================] - 6s 138ms/step - loss: 0.0048\n",
      "Epoch 20/100\n",
      "46/46 [==============================] - 6s 127ms/step - loss: 0.0042\n",
      "Epoch 21/100\n",
      "46/46 [==============================] - 6s 124ms/step - loss: 0.0041\n",
      "Epoch 22/100\n",
      "46/46 [==============================] - 7s 154ms/step - loss: 0.0044\n",
      "Epoch 23/100\n",
      "46/46 [==============================] - 6s 138ms/step - loss: 0.0040\n",
      "Epoch 24/100\n",
      "46/46 [==============================] - 6s 130ms/step - loss: 0.0045\n",
      "Epoch 25/100\n",
      "46/46 [==============================] - 7s 147ms/step - loss: 0.0039\n",
      "Epoch 26/100\n",
      "46/46 [==============================] - 6s 137ms/step - loss: 0.0040\n",
      "Epoch 27/100\n",
      "46/46 [==============================] - 8s 167ms/step - loss: 0.0039\n",
      "Epoch 28/100\n",
      "46/46 [==============================] - 6s 132ms/step - loss: 0.0039\n",
      "Epoch 29/100\n",
      "46/46 [==============================] - 6s 128ms/step - loss: 0.0036\n",
      "Epoch 30/100\n",
      "46/46 [==============================] - 5s 116ms/step - loss: 0.0035\n",
      "Epoch 31/100\n",
      "46/46 [==============================] - 5s 114ms/step - loss: 0.0036\n",
      "Epoch 32/100\n",
      "46/46 [==============================] - 5s 117ms/step - loss: 0.0032\n",
      "Epoch 33/100\n",
      "46/46 [==============================] - 5s 112ms/step - loss: 0.0032\n",
      "Epoch 34/100\n",
      "46/46 [==============================] - 6s 120ms/step - loss: 0.0034\n",
      "Epoch 35/100\n",
      "46/46 [==============================] - 7s 153ms/step - loss: 0.0031\n",
      "Epoch 36/100\n",
      "46/46 [==============================] - 7s 158ms/step - loss: 0.0031\n",
      "Epoch 37/100\n",
      "46/46 [==============================] - 8s 181ms/step - loss: 0.0031\n",
      "Epoch 38/100\n",
      "46/46 [==============================] - 7s 141ms/step - loss: 0.0030\n",
      "Epoch 39/100\n",
      "46/46 [==============================] - 6s 132ms/step - loss: 0.0031\n",
      "Epoch 40/100\n",
      "46/46 [==============================] - 5s 117ms/step - loss: 0.0029\n",
      "Epoch 41/100\n",
      "46/46 [==============================] - 5s 117ms/step - loss: 0.0031\n",
      "Epoch 42/100\n",
      "46/46 [==============================] - 5s 115ms/step - loss: 0.0027\n",
      "Epoch 43/100\n",
      "46/46 [==============================] - 5s 119ms/step - loss: 0.0027\n",
      "Epoch 44/100\n",
      "46/46 [==============================] - 5s 115ms/step - loss: 0.0028\n",
      "Epoch 45/100\n",
      "46/46 [==============================] - 5s 114ms/step - loss: 0.0028\n",
      "Epoch 46/100\n",
      "46/46 [==============================] - 5s 114ms/step - loss: 0.0029\n",
      "Epoch 47/100\n",
      "46/46 [==============================] - 5s 111ms/step - loss: 0.0025\n",
      "Epoch 48/100\n",
      "46/46 [==============================] - 5s 113ms/step - loss: 0.0025\n",
      "Epoch 49/100\n",
      "46/46 [==============================] - 5s 111ms/step - loss: 0.0025\n",
      "Epoch 50/100\n",
      "46/46 [==============================] - 5s 118ms/step - loss: 0.0024\n",
      "Epoch 51/100\n",
      "46/46 [==============================] - 5s 118ms/step - loss: 0.0026\n",
      "Epoch 52/100\n",
      "46/46 [==============================] - 6s 122ms/step - loss: 0.0023\n",
      "Epoch 53/100\n",
      "46/46 [==============================] - 7s 143ms/step - loss: 0.0023\n",
      "Epoch 54/100\n",
      "46/46 [==============================] - 6s 130ms/step - loss: 0.0023\n",
      "Epoch 55/100\n",
      "46/46 [==============================] - 6s 128ms/step - loss: 0.0022\n",
      "Epoch 56/100\n",
      "46/46 [==============================] - 6s 126ms/step - loss: 0.0023\n",
      "Epoch 57/100\n",
      "46/46 [==============================] - 5s 118ms/step - loss: 0.0022\n",
      "Epoch 58/100\n",
      "46/46 [==============================] - 5s 116ms/step - loss: 0.0022\n",
      "Epoch 59/100\n",
      "46/46 [==============================] - 6s 124ms/step - loss: 0.0021\n",
      "Epoch 60/100\n",
      "46/46 [==============================] - 5s 118ms/step - loss: 0.0021\n",
      "Epoch 61/100\n",
      "46/46 [==============================] - 6s 124ms/step - loss: 0.0020\n",
      "Epoch 62/100\n",
      "46/46 [==============================] - 6s 127ms/step - loss: 0.0021\n",
      "Epoch 63/100\n",
      "46/46 [==============================] - 5s 118ms/step - loss: 0.0019\n",
      "Epoch 64/100\n",
      "46/46 [==============================] - 5s 118ms/step - loss: 0.0020\n",
      "Epoch 65/100\n",
      "46/46 [==============================] - 7s 153ms/step - loss: 0.0022\n",
      "Epoch 66/100\n",
      "46/46 [==============================] - 6s 141ms/step - loss: 0.0020\n",
      "Epoch 67/100\n",
      "46/46 [==============================] - 6s 139ms/step - loss: 0.0021\n",
      "Epoch 68/100\n",
      "46/46 [==============================] - 7s 147ms/step - loss: 0.0019\n",
      "Epoch 69/100\n",
      "46/46 [==============================] - 7s 142ms/step - loss: 0.0019\n",
      "Epoch 70/100\n",
      "46/46 [==============================] - 6s 131ms/step - loss: 0.0017\n",
      "Epoch 71/100\n",
      "46/46 [==============================] - 6s 124ms/step - loss: 0.0018\n",
      "Epoch 72/100\n",
      "46/46 [==============================] - 6s 125ms/step - loss: 0.0017\n",
      "Epoch 73/100\n",
      "46/46 [==============================] - 6s 129ms/step - loss: 0.0018\n",
      "Epoch 74/100\n",
      "46/46 [==============================] - 6s 136ms/step - loss: 0.0017\n",
      "Epoch 75/100\n",
      "46/46 [==============================] - 6s 130ms/step - loss: 0.0017\n",
      "Epoch 76/100\n",
      "46/46 [==============================] - 6s 130ms/step - loss: 0.0018\n",
      "Epoch 77/100\n",
      "46/46 [==============================] - 6s 129ms/step - loss: 0.0017\n",
      "Epoch 78/100\n",
      "46/46 [==============================] - 6s 134ms/step - loss: 0.0017\n",
      "Epoch 79/100\n",
      "46/46 [==============================] - 6s 135ms/step - loss: 0.0017\n",
      "Epoch 80/100\n",
      "46/46 [==============================] - 6s 126ms/step - loss: 0.0016\n",
      "Epoch 81/100\n",
      "46/46 [==============================] - 6s 128ms/step - loss: 0.0016\n",
      "Epoch 82/100\n",
      "46/46 [==============================] - 6s 124ms/step - loss: 0.0016\n",
      "Epoch 83/100\n",
      "46/46 [==============================] - 6s 130ms/step - loss: 0.0017\n",
      "Epoch 84/100\n",
      "46/46 [==============================] - 6s 129ms/step - loss: 0.0016\n",
      "Epoch 85/100\n",
      "46/46 [==============================] - 6s 129ms/step - loss: 0.0016\n",
      "Epoch 86/100\n",
      "46/46 [==============================] - 6s 121ms/step - loss: 0.0017\n",
      "Epoch 87/100\n",
      "46/46 [==============================] - 6s 132ms/step - loss: 0.0017\n",
      "Epoch 88/100\n",
      "46/46 [==============================] - 6s 134ms/step - loss: 0.0014\n",
      "Epoch 89/100\n",
      "46/46 [==============================] - 6s 120ms/step - loss: 0.0015\n",
      "Epoch 90/100\n",
      "46/46 [==============================] - 6s 130ms/step - loss: 0.0015\n",
      "Epoch 91/100\n",
      "46/46 [==============================] - 6s 138ms/step - loss: 0.0015\n",
      "Epoch 92/100\n",
      "46/46 [==============================] - 6s 139ms/step - loss: 0.0017\n",
      "Epoch 93/100\n",
      "46/46 [==============================] - 6s 127ms/step - loss: 0.0015\n",
      "Epoch 94/100\n",
      "46/46 [==============================] - 6s 125ms/step - loss: 0.0014\n",
      "Epoch 95/100\n",
      "46/46 [==============================] - 6s 133ms/step - loss: 0.0015\n",
      "Epoch 96/100\n",
      "46/46 [==============================] - 6s 120ms/step - loss: 0.0014\n",
      "Epoch 97/100\n",
      "46/46 [==============================] - 6s 124ms/step - loss: 0.0015\n",
      "Epoch 98/100\n",
      "46/46 [==============================] - 6s 126ms/step - loss: 0.0015\n",
      "Epoch 99/100\n",
      "46/46 [==============================] - 6s 126ms/step - loss: 0.0015\n",
      "Epoch 100/100\n",
      "46/46 [==============================] - 7s 144ms/step - loss: 0.0014\n",
      "12/12 [==============================] - 4s 63ms/step\n"
     ]
    },
    {
     "ename": "ValueError",
     "evalue": "non-broadcastable output operand with shape (363,1) doesn't match the broadcast shape (363,5)",
     "output_type": "error",
     "traceback": [
      "\u001b[1;31m---------------------------------------------------------------------------\u001b[0m",
      "\u001b[1;31mValueError\u001b[0m                                Traceback (most recent call last)",
      "\u001b[1;32mc:\\Users\\louis\\Documents\\UTC\\UQAC\\H23\\AtelierPratiqueEnIA\\AtelierPratiqueEnIA\\2.LSTM.ipynb Cell 3\u001b[0m in \u001b[0;36m<cell line: 54>\u001b[1;34m()\u001b[0m\n\u001b[0;32m     <a href='vscode-notebook-cell:/c%3A/Users/louis/Documents/UTC/UQAC/H23/AtelierPratiqueEnIA/AtelierPratiqueEnIA/2.LSTM.ipynb#X20sZmlsZQ%3D%3D?line=51'>52</a>\u001b[0m y_pred \u001b[39m=\u001b[39m np\u001b[39m.\u001b[39mrepeat(y_pred, \u001b[39m5\u001b[39m, axis\u001b[39m=\u001b[39m\u001b[39m1\u001b[39m)\n\u001b[0;32m     <a href='vscode-notebook-cell:/c%3A/Users/louis/Documents/UTC/UQAC/H23/AtelierPratiqueEnIA/AtelierPratiqueEnIA/2.LSTM.ipynb#X20sZmlsZQ%3D%3D?line=52'>53</a>\u001b[0m y_pred \u001b[39m=\u001b[39m scaler\u001b[39m.\u001b[39minverse_transform(y_pred)\n\u001b[1;32m---> <a href='vscode-notebook-cell:/c%3A/Users/louis/Documents/UTC/UQAC/H23/AtelierPratiqueEnIA/AtelierPratiqueEnIA/2.LSTM.ipynb#X20sZmlsZQ%3D%3D?line=53'>54</a>\u001b[0m y_test \u001b[39m=\u001b[39m scaler\u001b[39m.\u001b[39;49minverse_transform(y_test\u001b[39m.\u001b[39;49mreshape(\u001b[39m-\u001b[39;49m\u001b[39m1\u001b[39;49m, \u001b[39m1\u001b[39;49m))\n\u001b[0;32m     <a href='vscode-notebook-cell:/c%3A/Users/louis/Documents/UTC/UQAC/H23/AtelierPratiqueEnIA/AtelierPratiqueEnIA/2.LSTM.ipynb#X20sZmlsZQ%3D%3D?line=55'>56</a>\u001b[0m \u001b[39m# Calculate evaluation metrics\u001b[39;00m\n\u001b[0;32m     <a href='vscode-notebook-cell:/c%3A/Users/louis/Documents/UTC/UQAC/H23/AtelierPratiqueEnIA/AtelierPratiqueEnIA/2.LSTM.ipynb#X20sZmlsZQ%3D%3D?line=56'>57</a>\u001b[0m mse \u001b[39m=\u001b[39m mean_squared_error(y_test, y_pred)\n",
      "File \u001b[1;32m~\\AppData\\Local\\Packages\\PythonSoftwareFoundation.Python.3.10_qbz5n2kfra8p0\\LocalCache\\local-packages\\Python310\\site-packages\\sklearn\\preprocessing\\_data.py:529\u001b[0m, in \u001b[0;36mMinMaxScaler.inverse_transform\u001b[1;34m(self, X)\u001b[0m\n\u001b[0;32m    523\u001b[0m check_is_fitted(\u001b[39mself\u001b[39m)\n\u001b[0;32m    525\u001b[0m X \u001b[39m=\u001b[39m check_array(\n\u001b[0;32m    526\u001b[0m     X, copy\u001b[39m=\u001b[39m\u001b[39mself\u001b[39m\u001b[39m.\u001b[39mcopy, dtype\u001b[39m=\u001b[39mFLOAT_DTYPES, force_all_finite\u001b[39m=\u001b[39m\u001b[39m\"\u001b[39m\u001b[39mallow-nan\u001b[39m\u001b[39m\"\u001b[39m\n\u001b[0;32m    527\u001b[0m )\n\u001b[1;32m--> 529\u001b[0m X \u001b[39m-\u001b[39m\u001b[39m=\u001b[39m \u001b[39mself\u001b[39m\u001b[39m.\u001b[39mmin_\n\u001b[0;32m    530\u001b[0m X \u001b[39m/\u001b[39m\u001b[39m=\u001b[39m \u001b[39mself\u001b[39m\u001b[39m.\u001b[39mscale_\n\u001b[0;32m    531\u001b[0m \u001b[39mreturn\u001b[39;00m X\n",
      "\u001b[1;31mValueError\u001b[0m: non-broadcastable output operand with shape (363,1) doesn't match the broadcast shape (363,5)"
     ]
    }
   ],
   "source": [
    "import pandas as pd\n",
    "import numpy as np\n",
    "from keras.models import Sequential\n",
    "from keras.layers import Dense, LSTM, Dropout\n",
    "from sklearn.preprocessing import MinMaxScaler\n",
    "from sklearn.metrics import mean_squared_error\n",
    "# Load data\n",
    "data = eur_cad\n",
    "\n",
    "# Preprocess data\n",
    "scaler = MinMaxScaler()\n",
    "data_scaled = scaler.fit_transform(data)\n",
    "X = []\n",
    "y = []\n",
    "for i in range(60, len(data)):\n",
    "    X.append(data_scaled[i-60:i, 0])\n",
    "    y.append(data_scaled[i, 0])\n",
    "X = np.array(X)\n",
    "y = np.array(y)\n",
    "\n",
    "# Split data into training and testing sets\n",
    "train_size = int(len(X) * 0.8)\n",
    "X_train, X_test = X[:train_size], X[train_size:]\n",
    "y_train, y_test = y[:train_size], y[train_size:]\n",
    "\n",
    "# Reshape data for LSTM\n",
    "X_train = np.reshape(X_train, (X_train.shape[0], X_train.shape[1], 1))\n",
    "X_test = np.reshape(X_test, (X_test.shape[0], X_test.shape[1], 1))\n",
    "\n",
    "# Build LSTM model\n",
    "model = Sequential()\n",
    "model.add(LSTM(units=50, return_sequences=True, input_shape=(X_train.shape[1], 1)))\n",
    "model.add(Dropout(0.2))\n",
    "model.add(LSTM(units=50, return_sequences=True))\n",
    "model.add(Dropout(0.2))\n",
    "model.add(LSTM(units=50, return_sequences=True))\n",
    "model.add(Dropout(0.2))\n",
    "model.add(LSTM(units=50))\n",
    "model.add(Dropout(0.2))\n",
    "model.add(Dense(units=1))\n",
    "\n",
    "model.summary()\n",
    "\n",
    "# Compile model\n",
    "model.compile(optimizer='adam', loss='mean_squared_error')\n",
    "\n",
    "# Train model\n",
    "model.fit(X_train, y_train, epochs=100, batch_size=32)\n",
    "\n",
    "# Make predictions on testing set\n",
    "y_pred = model.predict(X_test)\n",
    "y_pred = np.repeat(y_pred, 5, axis=1)\n",
    "y_pred = scaler.inverse_transform(y_pred)\n",
    "y_test = scaler.inverse_transform(y_test.reshape(-1, 1))\n",
    "\n",
    "# Calculate evaluation metrics\n",
    "mse = mean_squared_error(y_test, y_pred)\n",
    "rmse = np.sqrt(mse)\n",
    "\n",
    "print(f\"RMSE: {rmse}\")\n"
   ]
  },
  {
   "cell_type": "code",
   "execution_count": 101,
   "metadata": {},
   "outputs": [],
   "source": [
    "import matplotlib.pyplot as plt\n",
    "from keras.models import Sequential\n",
    "from keras.layers import Dense, LSTM\n",
    "from sklearn.preprocessing import MinMaxScaler"
   ]
  },
  {
   "cell_type": "code",
   "execution_count": 102,
   "metadata": {},
   "outputs": [],
   "source": [
    "# Split the data into training and testing sets\n",
    "train_data = eur_cad[:'2019'].values\n",
    "test_data = eur_cad['2020':].values"
   ]
  },
  {
   "cell_type": "code",
   "execution_count": 103,
   "metadata": {},
   "outputs": [],
   "source": [
    "# Normalize the data\n",
    "scaler = MinMaxScaler(feature_range=(0, 1))\n",
    "train_data_scaled = scaler.fit_transform(train_data)"
   ]
  },
  {
   "cell_type": "code",
   "execution_count": 104,
   "metadata": {},
   "outputs": [],
   "source": [
    "# Define the training data sequence and labels\n",
    "X_train = []\n",
    "y_train = []\n",
    "for i in range(60, len(train_data_scaled)):\n",
    "    X_train.append(train_data_scaled[i-60:i, 0])\n",
    "    y_train.append(train_data_scaled[i, 0])\n",
    "X_train, y_train = np.array(X_train), np.array(y_train)"
   ]
  },
  {
   "cell_type": "code",
   "execution_count": 105,
   "metadata": {},
   "outputs": [],
   "source": [
    "# Reshape the training data\n",
    "X_train = np.reshape(X_train, (X_train.shape[0], X_train.shape[1], 1))"
   ]
  },
  {
   "cell_type": "code",
   "execution_count": 106,
   "metadata": {},
   "outputs": [],
   "source": [
    "# Define the LSTM model\n",
    "model = Sequential()\n",
    "model.add(LSTM(units=50, return_sequences=True, input_shape=(X_train.shape[1], 1)))\n",
    "model.add(LSTM(units=50))\n",
    "model.add(Dense(units=1))"
   ]
  },
  {
   "cell_type": "code",
   "execution_count": 107,
   "metadata": {},
   "outputs": [],
   "source": [
    "# Compile the LSTM model\n",
    "model.compile(optimizer='adam', loss='mean_squared_error')"
   ]
  },
  {
   "cell_type": "code",
   "execution_count": 108,
   "metadata": {},
   "outputs": [
    {
     "name": "stdout",
     "output_type": "stream",
     "text": [
      "Epoch 1/10\n",
      "39/39 [==============================] - 8s 59ms/step - loss: 0.0291\n",
      "Epoch 2/10\n",
      "39/39 [==============================] - 2s 61ms/step - loss: 0.0039\n",
      "Epoch 3/10\n",
      "39/39 [==============================] - 2s 60ms/step - loss: 0.0033\n",
      "Epoch 4/10\n",
      "39/39 [==============================] - 2s 53ms/step - loss: 0.0031\n",
      "Epoch 5/10\n",
      "39/39 [==============================] - 2s 54ms/step - loss: 0.0030\n",
      "Epoch 6/10\n",
      "39/39 [==============================] - 2s 55ms/step - loss: 0.0029\n",
      "Epoch 7/10\n",
      "39/39 [==============================] - 2s 57ms/step - loss: 0.0028\n",
      "Epoch 8/10\n",
      "39/39 [==============================] - 2s 55ms/step - loss: 0.0026\n",
      "Epoch 9/10\n",
      "39/39 [==============================] - 2s 54ms/step - loss: 0.0025\n",
      "Epoch 10/10\n",
      "39/39 [==============================] - 2s 54ms/step - loss: 0.0024\n"
     ]
    },
    {
     "data": {
      "text/plain": [
       "<keras.callbacks.History at 0x19e2058f3d0>"
      ]
     },
     "execution_count": 108,
     "metadata": {},
     "output_type": "execute_result"
    }
   ],
   "source": [
    "# Train the LSTM model\n",
    "model.fit(X_train, y_train, epochs=10, batch_size=32)"
   ]
  },
  {
   "cell_type": "code",
   "execution_count": 109,
   "metadata": {},
   "outputs": [],
   "source": [
    "# Prepare the test data for prediction\n",
    "inputs = eur_cad[len(eur_cad) - len(test_data) - 60:].values\n",
    "inputs = scaler.transform(inputs)\n",
    "X_test = []\n",
    "for i in range(60, len(inputs)):\n",
    "    X_test.append(inputs[i-60:i, 0])\n",
    "X_test = np.array(X_test)\n",
    "X_test = np.reshape(X_test, (X_test.shape[0], X_test.shape[1], 1))"
   ]
  },
  {
   "cell_type": "code",
   "execution_count": 110,
   "metadata": {},
   "outputs": [
    {
     "name": "stdout",
     "output_type": "stream",
     "text": [
      "18/18 [==============================] - 2s 20ms/step\n"
     ]
    }
   ],
   "source": [
    "# Generate predictions on test data\n",
    "predictions = model.predict(X_test)\n"
   ]
  },
  {
   "cell_type": "code",
   "execution_count": 111,
   "metadata": {},
   "outputs": [],
   "source": [
    "predictions = np.repeat(predictions, 5, axis=1)"
   ]
  },
  {
   "cell_type": "code",
   "execution_count": 112,
   "metadata": {},
   "outputs": [],
   "source": [
    "predictions = scaler.inverse_transform(predictions)"
   ]
  },
  {
   "cell_type": "code",
   "execution_count": 113,
   "metadata": {},
   "outputs": [
    {
     "data": {
      "image/png": "[encoded data removed]",
      "text/plain": [
       "<Figure size 432x288 with 1 Axes>"
      ]
     },
     "metadata": {
      "needs_background": "light"
     },
     "output_type": "display_data"
    }
   ],
   "source": [
    "# Plot the predictions against the actual values\n",
    "plt.plot(test_data, color='blue', label='Actual EUR/CAD Exchange Rate')\n",
    "plt.plot(predictions, color='red', label='Predicted EUR/CAD Exchange Rate')\n",
    "plt.title('EUR/CAD Exchange Rate Prediction')\n",
    "plt.xlabel('Time')\n",
    "plt.ylabel('EUR/CAD Exchange Rate')\n",
    "plt.legend()\n",
    "plt.show()"
   ]
  },
  {
   "cell_type": "code",
   "execution_count": 116,
   "metadata": {},
   "outputs": [
    {
     "data": {
      "text/plain": [
       "array([0.78263467, 0.76862821, 0.79491526, 0.79511428, 0.81884574,\n",
       "       0.79551271, 0.81399966, 0.81974192, 0.8027482 , 0.83411318,\n",
       "       0.80301369, 0.80852329, 0.75180066, 0.75936811, 0.75588311,\n",
       "       0.77364007, 0.78372987, 0.74858115, 0.75561762, 0.74901243,\n",
       "       0.79053408, 0.80361114, 0.79056732, 0.80473957, 0.78840977,\n",
       "       0.79803506, 0.79707241, 0.78276722, 0.77626213, 0.78704908,\n",
       "       0.79156281, 0.80198457, 0.79106506, 0.82545054, 0.83716691,\n",
       "       0.83029622, 0.78558869, 0.78993663, 0.79488202, 0.78528997,\n",
       "       0.77911644, 0.77885095, 0.78907369, 0.76647066, 0.80377692,\n",
       "       0.82558309, 0.83510907, 0.86196034, 0.85840887, 0.84207907,\n",
       "       0.84277583, 0.84463465, 0.85167112, 0.85867436, 0.84868387,\n",
       "       0.70925028, 0.81655525, 0.84124936, 0.81831437, 0.83072789,\n",
       "       0.80925368, 0.79162928, 0.79922996, 0.79355418, 0.76955762,\n",
       "       0.74473096, 0.75817321, 0.75482076, 0.76982311, 0.72143116,\n",
       "       0.75123645, 0.78240242, 0.7775231 , 0.76749977, 0.79255869,\n",
       "       0.805138  , 0.79401908, 0.7903679 , 0.75246419, 0.75389174,\n",
       "       0.73769449, 0.74662302, 0.73961978, 0.75047282, 0.74997507,\n",
       "       0.75711125, 0.74838174, 0.73228459, 0.74350282, 0.72086694,\n",
       "       0.73308106, 0.71406273, 0.73537116, 0.72222763, 0.69799842,\n",
       "       0.73387753, 0.7389891 , 0.69932627, 0.71217107, 0.71177263,\n",
       "       0.67951147, 0.64343334, 0.62199197, 0.63722658, 0.63941697,\n",
       "       0.62863001, 0.58956502, 0.58149944, 0.55936131, 0.57077895,\n",
       "       0.58608003, 0.58345797, 0.60270815, 0.59112473, 0.57572434,\n",
       "       0.56978307, 0.56729395, 0.56191689, 0.55448239, 0.5344021 ,\n",
       "       0.54698141, 0.55186033, 0.55534533, 0.59865894, 0.61455747,\n",
       "       0.61230061, 0.59235286, 0.61093953, 0.61810894, 0.62066452,\n",
       "       0.6281655 , 0.61611717, 0.64973942, 0.68130382, 0.6406451 ,\n",
       "       0.6285307 , 0.65481775, 0.61359482, 0.62242364, 0.59928963,\n",
       "       0.5842212 , 0.54542131, 0.55919552, 0.54930474, 0.53280876,\n",
       "       0.51213102, 0.53695768, 0.5168774 , 0.51953269, 0.50207446,\n",
       "       0.52235377, 0.52739886, 0.50848024, 0.53994494, 0.54299827,\n",
       "       0.53848455, 0.52338289, 0.52922445, 0.54864082, 0.55179386,\n",
       "       0.52872631, 0.52992122, 0.54080788, 0.53865033, 0.52281867,\n",
       "       0.51943298, 0.51993112, 0.53420308, 0.53699092, 0.54011072,\n",
       "       0.53114935, 0.53028641, 0.52773083, 0.54728013, 0.53121582,\n",
       "       0.52567298, 0.54920503, 0.53466759, 0.5215573 , 0.5161474 ,\n",
       "       0.52248671, 0.51551671, 0.52726592, 0.54050915, 0.52175632,\n",
       "       0.53519857, 0.49666417, 0.50240642, 0.53290847, 0.52955641,\n",
       "       0.57067924, 0.55023415, 0.54830886, 0.53828553, 0.55929483,\n",
       "       0.58063649, 0.59016248, 0.63397383, 0.60061747, 0.56291278,\n",
       "       0.55298876, 0.55501337, 0.55849836, 0.58445346, 0.56619876,\n",
       "       0.55720415, 0.55361945, 0.56991601, 0.58126718, 0.57230581,\n",
       "       0.55405072, 0.54625101, 0.54123915, 0.51292789, 0.51757455,\n",
       "       0.52029592, 0.54455837, 0.55833258, 0.55093092, 0.56228209,\n",
       "       0.61561943, 0.62219139, 0.57612277, 0.55703797, 0.56268052,\n",
       "       0.59487522, 0.58222983, 0.58013875, 0.5885359 , 0.60277463,\n",
       "       0.59115796, 0.58704228, 0.58249532, 0.61545364, 0.62391727,\n",
       "       0.61439129, 0.61415903, 0.60167943, 0.61525423, 0.59577139,\n",
       "       0.59530688, 0.61249962, 0.62760129, 0.63058854, 0.60406923,\n",
       "       0.57778218, 0.56457219, 0.54558749, 0.5612866 , 0.55561082,\n",
       "       0.51677769, 0.50818152, 0.4986227 , 0.48683986, 0.47097496,\n",
       "       0.45773173, 0.43672203, 0.42955301, 0.41919733, 0.43124566,\n",
       "       0.40502508, 0.40628645, 0.412659  , 0.41355517, 0.409904  ,\n",
       "       0.41710664, 0.42294782, 0.41189537, 0.41262576, 0.40575508,\n",
       "       0.43098017, 0.39350812, 0.40841037, 0.41222733, 0.41630978,\n",
       "       0.41863311, 0.42420919, 0.42958625, 0.42878938, 0.40396312,\n",
       "       0.42703027, 0.40821135, 0.36532901, 0.36370284, 0.38086234,\n",
       "       0.39958194, 0.37950165, 0.38318567, 0.37432361, 0.35205294,\n",
       "       0.35507303, 0.41129792, 0.41813537, 0.4468783 , 0.45666977,\n",
       "       0.45271987, 0.45295212, 0.42251654, 0.37538597, 0.4072487 ,\n",
       "       0.40665125, 0.4192638 , 0.43964281, 0.45145889, 0.45474447,\n",
       "       0.45152496, 0.45607232, 0.48491496, 0.48537946, 0.47518996,\n",
       "       0.46400496, 0.45925859, 0.45295212, 0.45577359, 0.46287614,\n",
       "       0.43390095, 0.42168684, 0.42689772, 0.40124135, 0.4333035 ,\n",
       "       0.41538037, 0.40887527, 0.40694998, 0.38985694, 0.39111832,\n",
       "       0.40044488, 0.3935742 , 0.38388283, 0.3430251 , 0.35404431,\n",
       "       0.33758157, 0.37279715, 0.38975724, 0.37707862, 0.36579391,\n",
       "       0.35912264, 0.36682264, 0.38451312, 0.39264478, 0.40163979,\n",
       "       0.4562381 , 0.48916319, 0.45338379, 0.46025408, 0.44936781,\n",
       "       0.46685928, 0.44276261, 0.42022645, 0.43980899, 0.43648977,\n",
       "       0.4371537 , 0.43499615, 0.43234085, 0.44528536, 0.42188586,\n",
       "       0.40087616, 0.37850577, 0.3586245 , 0.34501647, 0.30860638,\n",
       "       0.2976204 , 0.23160405, 0.26014796])"
      ]
     },
     "execution_count": 116,
     "metadata": {},
     "output_type": "execute_result"
    }
   ],
   "source": [
    "y_test"
   ]
  },
  {
   "cell_type": "code",
   "execution_count": 118,
   "metadata": {},
   "outputs": [
    {
     "data": {
      "text/plain": [
       "array([[1.4579933, 1.4615715, 1.4490728, 1.4581918, 1.4581918],\n",
       "       [1.4576174, 1.4612007, 1.4486947, 1.4578162, 1.4578162],\n",
       "       [1.4571325, 1.4607221, 1.4482068, 1.4573315, 1.4573315],\n",
       "       ...,\n",
       "       [1.4318537, 1.4357839, 1.4227753, 1.4320704, 1.4320704],\n",
       "       [1.4272504, 1.4312427, 1.4181443, 1.4274703, 1.4274703],\n",
       "       [1.4213514, 1.4254233, 1.4122096, 1.4215755, 1.4215755]],\n",
       "      dtype=float32)"
      ]
     },
     "execution_count": 118,
     "metadata": {},
     "output_type": "execute_result"
    }
   ],
   "source": [
    "predictions"
   ]
  },
  {
   "cell_type": "code",
   "execution_count": 119,
   "metadata": {},
   "outputs": [
    {
     "ename": "ValueError",
     "evalue": "Found input variables with inconsistent numbers of samples: [363, 570]",
     "output_type": "error",
     "traceback": [
      "\u001b[1;31m---------------------------------------------------------------------------\u001b[0m",
      "\u001b[1;31mValueError\u001b[0m                                Traceback (most recent call last)",
      "\u001b[1;32mc:\\Users\\louis\\Documents\\UTC\\UQAC\\H23\\AtelierPratiqueEnIA\\AtelierPratiqueEnIA\\2.LSTM.ipynb Cell 19\u001b[0m in \u001b[0;36m<cell line: 1>\u001b[1;34m()\u001b[0m\n\u001b[1;32m----> <a href='vscode-notebook-cell:/c%3A/Users/louis/Documents/UTC/UQAC/H23/AtelierPratiqueEnIA/AtelierPratiqueEnIA/2.LSTM.ipynb#X23sZmlsZQ%3D%3D?line=0'>1</a>\u001b[0m mse \u001b[39m=\u001b[39m mean_squared_error(y_test, predictions)\n",
      "File \u001b[1;32m~\\AppData\\Local\\Packages\\PythonSoftwareFoundation.Python.3.10_qbz5n2kfra8p0\\LocalCache\\local-packages\\Python310\\site-packages\\sklearn\\metrics\\_regression.py:438\u001b[0m, in \u001b[0;36mmean_squared_error\u001b[1;34m(y_true, y_pred, sample_weight, multioutput, squared)\u001b[0m\n\u001b[0;32m    378\u001b[0m \u001b[39mdef\u001b[39;00m \u001b[39mmean_squared_error\u001b[39m(\n\u001b[0;32m    379\u001b[0m     y_true, y_pred, \u001b[39m*\u001b[39m, sample_weight\u001b[39m=\u001b[39m\u001b[39mNone\u001b[39;00m, multioutput\u001b[39m=\u001b[39m\u001b[39m\"\u001b[39m\u001b[39muniform_average\u001b[39m\u001b[39m\"\u001b[39m, squared\u001b[39m=\u001b[39m\u001b[39mTrue\u001b[39;00m\n\u001b[0;32m    380\u001b[0m ):\n\u001b[0;32m    381\u001b[0m     \u001b[39m\"\"\"Mean squared error regression loss.\u001b[39;00m\n\u001b[0;32m    382\u001b[0m \n\u001b[0;32m    383\u001b[0m \u001b[39m    Read more in the :ref:`User Guide <mean_squared_error>`.\u001b[39;00m\n\u001b[1;32m   (...)\u001b[0m\n\u001b[0;32m    436\u001b[0m \u001b[39m    0.825...\u001b[39;00m\n\u001b[0;32m    437\u001b[0m \u001b[39m    \"\"\"\u001b[39;00m\n\u001b[1;32m--> 438\u001b[0m     y_type, y_true, y_pred, multioutput \u001b[39m=\u001b[39m _check_reg_targets(\n\u001b[0;32m    439\u001b[0m         y_true, y_pred, multioutput\n\u001b[0;32m    440\u001b[0m     )\n\u001b[0;32m    441\u001b[0m     check_consistent_length(y_true, y_pred, sample_weight)\n\u001b[0;32m    442\u001b[0m     output_errors \u001b[39m=\u001b[39m np\u001b[39m.\u001b[39maverage((y_true \u001b[39m-\u001b[39m y_pred) \u001b[39m*\u001b[39m\u001b[39m*\u001b[39m \u001b[39m2\u001b[39m, axis\u001b[39m=\u001b[39m\u001b[39m0\u001b[39m, weights\u001b[39m=\u001b[39msample_weight)\n",
      "File \u001b[1;32m~\\AppData\\Local\\Packages\\PythonSoftwareFoundation.Python.3.10_qbz5n2kfra8p0\\LocalCache\\local-packages\\Python310\\site-packages\\sklearn\\metrics\\_regression.py:94\u001b[0m, in \u001b[0;36m_check_reg_targets\u001b[1;34m(y_true, y_pred, multioutput, dtype)\u001b[0m\n\u001b[0;32m     60\u001b[0m \u001b[39mdef\u001b[39;00m \u001b[39m_check_reg_targets\u001b[39m(y_true, y_pred, multioutput, dtype\u001b[39m=\u001b[39m\u001b[39m\"\u001b[39m\u001b[39mnumeric\u001b[39m\u001b[39m\"\u001b[39m):\n\u001b[0;32m     61\u001b[0m     \u001b[39m\"\"\"Check that y_true and y_pred belong to the same regression task.\u001b[39;00m\n\u001b[0;32m     62\u001b[0m \n\u001b[0;32m     63\u001b[0m \u001b[39m    Parameters\u001b[39;00m\n\u001b[1;32m   (...)\u001b[0m\n\u001b[0;32m     92\u001b[0m \u001b[39m        the dtype argument passed to check_array.\u001b[39;00m\n\u001b[0;32m     93\u001b[0m \u001b[39m    \"\"\"\u001b[39;00m\n\u001b[1;32m---> 94\u001b[0m     check_consistent_length(y_true, y_pred)\n\u001b[0;32m     95\u001b[0m     y_true \u001b[39m=\u001b[39m check_array(y_true, ensure_2d\u001b[39m=\u001b[39m\u001b[39mFalse\u001b[39;00m, dtype\u001b[39m=\u001b[39mdtype)\n\u001b[0;32m     96\u001b[0m     y_pred \u001b[39m=\u001b[39m check_array(y_pred, ensure_2d\u001b[39m=\u001b[39m\u001b[39mFalse\u001b[39;00m, dtype\u001b[39m=\u001b[39mdtype)\n",
      "File \u001b[1;32m~\\AppData\\Local\\Packages\\PythonSoftwareFoundation.Python.3.10_qbz5n2kfra8p0\\LocalCache\\local-packages\\Python310\\site-packages\\sklearn\\utils\\validation.py:332\u001b[0m, in \u001b[0;36mcheck_consistent_length\u001b[1;34m(*arrays)\u001b[0m\n\u001b[0;32m    330\u001b[0m uniques \u001b[39m=\u001b[39m np\u001b[39m.\u001b[39munique(lengths)\n\u001b[0;32m    331\u001b[0m \u001b[39mif\u001b[39;00m \u001b[39mlen\u001b[39m(uniques) \u001b[39m>\u001b[39m \u001b[39m1\u001b[39m:\n\u001b[1;32m--> 332\u001b[0m     \u001b[39mraise\u001b[39;00m \u001b[39mValueError\u001b[39;00m(\n\u001b[0;32m    333\u001b[0m         \u001b[39m\"\u001b[39m\u001b[39mFound input variables with inconsistent numbers of samples: \u001b[39m\u001b[39m%r\u001b[39;00m\u001b[39m\"\u001b[39m\n\u001b[0;32m    334\u001b[0m         \u001b[39m%\u001b[39m [\u001b[39mint\u001b[39m(l) \u001b[39mfor\u001b[39;00m l \u001b[39min\u001b[39;00m lengths]\n\u001b[0;32m    335\u001b[0m     )\n",
      "\u001b[1;31mValueError\u001b[0m: Found input variables with inconsistent numbers of samples: [363, 570]"
     ]
    }
   ],
   "source": [
    "mse = mean_squared_error(y_test, predictions)\n"
   ]
  },
  {
   "cell_type": "code",
   "execution_count": 121,
   "metadata": {},
   "outputs": [],
   "source": [
    "import keras\n",
    "from keras.datasets import mnist\n",
    "from keras.models import Sequential\n",
    "from keras.layers import CuDNNLSTM, Dense, Dropout, LSTM\n",
    "from keras.optimizers import Adam"
   ]
  },
  {
   "cell_type": "code",
   "execution_count": 125,
   "metadata": {},
   "outputs": [],
   "source": [
    "#Initializing the classifier Network\n",
    "classifier = Sequential()\n",
    "\n",
    "#Adding the input LSTM network layer\n",
    "classifier.add(LSTM(128, input_shape=(X_train.shape[1:]), return_sequences=True))"
   ]
  },
  {
   "cell_type": "code",
   "execution_count": 126,
   "metadata": {},
   "outputs": [],
   "source": [
    "#Adding a second LSTM network layer\n",
    "classifier.add(LSTM(128))\n",
    "\n",
    "#Adding a dense hidden layer\n",
    "classifier.add(Dense(64, activation='relu'))\n",
    "classifier.add(Dropout(0.2))\n",
    "\n",
    "#Adding the output layer\n",
    "classifier.add(Dense(10, activation='softmax'))"
   ]
  },
  {
   "cell_type": "code",
   "execution_count": 127,
   "metadata": {},
   "outputs": [
    {
     "name": "stdout",
     "output_type": "stream",
     "text": [
      "Epoch 1/3\n",
      "46/46 [==============================] - 13s 172ms/step - loss: 0.2600 - accuracy: 6.9013e-04 - val_loss: 2.0266e-06 - val_accuracy: 0.0000e+00\n",
      "Epoch 2/3\n",
      "46/46 [==============================] - 6s 137ms/step - loss: 0.0126 - accuracy: 6.9013e-04 - val_loss: 4.6492e-06 - val_accuracy: 0.0000e+00\n",
      "Epoch 3/3\n",
      "46/46 [==============================] - 6s 135ms/step - loss: 0.0092 - accuracy: 6.9013e-04 - val_loss: 1.4820e-04 - val_accuracy: 0.0000e+00\n"
     ]
    },
    {
     "data": {
      "text/plain": [
       "<keras.callbacks.History at 0x19e3f00f790>"
      ]
     },
     "execution_count": 127,
     "metadata": {},
     "output_type": "execute_result"
    }
   ],
   "source": [
    "#Compiling the network\n",
    "classifier.compile( loss='sparse_categorical_crossentropy',\n",
    "              optimizer=Adam(lr=0.001, decay=1e-6),\n",
    "              metrics=['accuracy'] )\n",
    "\n",
    "#Fitting the data to the model\n",
    "classifier.fit(X_train,\n",
    "         y_train,\n",
    "          epochs=3,\n",
    "          validation_data=(X_test, y_test))"
   ]
  },
  {
   "cell_type": "code",
   "execution_count": 128,
   "metadata": {},
   "outputs": [
    {
     "name": "stdout",
     "output_type": "stream",
     "text": [
      "12/12 [==============================] - 1s 41ms/step - loss: 1.4820e-04 - accuracy: 0.0000e+00\n",
      "Test Loss: 0.0001482009975006804\n",
      "Test Accuracy: 0.0\n"
     ]
    }
   ],
   "source": [
    "test_loss, test_acc = classifier.evaluate(X_test, y_test)\n",
    "print('Test Loss: {}'.format(test_loss))\n",
    "print('Test Accuracy: {}'.format(test_acc))"
   ]
  },
  {
   "attachments": {},
   "cell_type": "markdown",
   "metadata": {},
   "source": [
    "# Test"
   ]
  },
  {
   "cell_type": "code",
   "execution_count": 161,
   "metadata": {},
   "outputs": [],
   "source": [
    "from keras.models import Sequential\n",
    "from keras.layers import Activation, Dense, Dropout, LSTM\n",
    "import matplotlib.pyplot as plt\n",
    "import numpy as np\n",
    "import pandas as pd\n",
    "import seaborn as sns\n",
    "from sklearn.metrics import mean_absolute_error"
   ]
  },
  {
   "cell_type": "code",
   "execution_count": 162,
   "metadata": {},
   "outputs": [],
   "source": [
    "hist = eur_cad"
   ]
  },
  {
   "cell_type": "code",
   "execution_count": 163,
   "metadata": {},
   "outputs": [
    {
     "data": {
      "text/plain": [
       "DatetimeIndex(['2015-01-01', '2015-01-02', '2015-01-05', '2015-01-06',\n",
       "               '2015-01-07', '2015-01-08', '2015-01-09', '2015-01-12',\n",
       "               '2015-01-13', '2015-01-14',\n",
       "               ...\n",
       "               '2022-02-23', '2022-02-24', '2022-02-25', '2022-02-28',\n",
       "               '2022-03-01', '2022-03-02', '2022-03-03', '2022-03-04',\n",
       "               '2022-03-07', '2022-03-08'],\n",
       "              dtype='datetime64[ns]', name='Date', length=1872, freq=None)"
      ]
     },
     "execution_count": 163,
     "metadata": {},
     "output_type": "execute_result"
    }
   ],
   "source": [
    "eur_cad.index"
   ]
  },
  {
   "cell_type": "code",
   "execution_count": 164,
   "metadata": {},
   "outputs": [],
   "source": [
    "hist.index = pd.to_datetime(hist.index, unit='s')\n",
    "# colonne cible\n",
    "target_col = 'Close'"
   ]
  },
  {
   "cell_type": "code",
   "execution_count": 165,
   "metadata": {},
   "outputs": [
    {
     "data": {
      "text/html": [
       "<div>\n",
       "<style scoped>\n",
       "    .dataframe tbody tr th:only-of-type {\n",
       "        vertical-align: middle;\n",
       "    }\n",
       "\n",
       "    .dataframe tbody tr th {\n",
       "        vertical-align: top;\n",
       "    }\n",
       "\n",
       "    .dataframe thead th {\n",
       "        text-align: right;\n",
       "    }\n",
       "</style>\n",
       "<table border=\"1\" class=\"dataframe\">\n",
       "  <thead>\n",
       "    <tr style=\"text-align: right;\">\n",
       "      <th></th>\n",
       "      <th>Open</th>\n",
       "      <th>High</th>\n",
       "      <th>Low</th>\n",
       "      <th>Close</th>\n",
       "      <th>Adj Close</th>\n",
       "    </tr>\n",
       "    <tr>\n",
       "      <th>Date</th>\n",
       "      <th></th>\n",
       "      <th></th>\n",
       "      <th></th>\n",
       "      <th></th>\n",
       "      <th></th>\n",
       "    </tr>\n",
       "  </thead>\n",
       "  <tbody>\n",
       "    <tr>\n",
       "      <th>2015-01-01</th>\n",
       "      <td>1.40496</td>\n",
       "      <td>1.40496</td>\n",
       "      <td>1.40496</td>\n",
       "      <td>1.40496</td>\n",
       "      <td>1.40496</td>\n",
       "    </tr>\n",
       "    <tr>\n",
       "      <th>2015-01-02</th>\n",
       "      <td>1.40433</td>\n",
       "      <td>1.41050</td>\n",
       "      <td>1.40220</td>\n",
       "      <td>1.40445</td>\n",
       "      <td>1.40445</td>\n",
       "    </tr>\n",
       "    <tr>\n",
       "      <th>2015-01-05</th>\n",
       "      <td>1.40944</td>\n",
       "      <td>1.41125</td>\n",
       "      <td>1.40210</td>\n",
       "      <td>1.40850</td>\n",
       "      <td>1.40850</td>\n",
       "    </tr>\n",
       "    <tr>\n",
       "      <th>2015-01-06</th>\n",
       "      <td>1.40330</td>\n",
       "      <td>1.40613</td>\n",
       "      <td>1.39960</td>\n",
       "      <td>1.40330</td>\n",
       "      <td>1.40330</td>\n",
       "    </tr>\n",
       "    <tr>\n",
       "      <th>2015-01-07</th>\n",
       "      <td>1.40530</td>\n",
       "      <td>1.40894</td>\n",
       "      <td>1.39769</td>\n",
       "      <td>1.40550</td>\n",
       "      <td>1.40550</td>\n",
       "    </tr>\n",
       "  </tbody>\n",
       "</table>\n",
       "</div>"
      ],
      "text/plain": [
       "               Open     High      Low    Close  Adj Close\n",
       "Date                                                     \n",
       "2015-01-01  1.40496  1.40496  1.40496  1.40496    1.40496\n",
       "2015-01-02  1.40433  1.41050  1.40220  1.40445    1.40445\n",
       "2015-01-05  1.40944  1.41125  1.40210  1.40850    1.40850\n",
       "2015-01-06  1.40330  1.40613  1.39960  1.40330    1.40330\n",
       "2015-01-07  1.40530  1.40894  1.39769  1.40550    1.40550"
      ]
     },
     "execution_count": 165,
     "metadata": {},
     "output_type": "execute_result"
    }
   ],
   "source": [
    "hist.head(5)"
   ]
  },
  {
   "cell_type": "code",
   "execution_count": 166,
   "metadata": {},
   "outputs": [],
   "source": [
    "def train_test_split(df, test_size=0.2):\n",
    "    split_row = len(df) - int(test_size * len(df))\n",
    "    train_data = df.iloc[:split_row]\n",
    "    test_data = df.iloc[split_row:]\n",
    "    return train_data, test_data\n",
    "train, test = train_test_split(hist, test_size=0.2)"
   ]
  },
  {
   "cell_type": "code",
   "execution_count": 167,
   "metadata": {},
   "outputs": [
    {
     "data": {
      "image/png": "[encoded data removed]",
      "text/plain": [
       "<Figure size 936x504 with 1 Axes>"
      ]
     },
     "metadata": {
      "needs_background": "light"
     },
     "output_type": "display_data"
    }
   ],
   "source": [
    "def line_plot(line1, line2, label1=None, label2=None, title='', lw=2):\n",
    "    fig, ax = plt.subplots(1, figsize=(13, 7))\n",
    "    ax.plot(line1, label=label1, linewidth=lw)\n",
    "    ax.plot(line2, label=label2, linewidth=lw)\n",
    "    ax.set_ylabel('prix [EUR]', fontsize=14)\n",
    "    ax.set_title(title, fontsize=16)\n",
    "    ax.legend(loc='best', fontsize=16)\n",
    "line_plot(train[target_col], test[target_col], 'training', 'test', title='')"
   ]
  },
  {
   "cell_type": "code",
   "execution_count": 168,
   "metadata": {},
   "outputs": [],
   "source": [
    "def normalise_zero_base(df):\n",
    "    return df / df.iloc[0] - 1\n",
    "def normalise_min_max(df):\n",
    "    return (df - df.min()) / (data.max() - df.min())"
   ]
  },
  {
   "cell_type": "code",
   "execution_count": 169,
   "metadata": {},
   "outputs": [],
   "source": [
    "def extract_window_data(df, window_len=5, zero_base=True):\n",
    "    window_data = []\n",
    "    for idx in range(len(df) - window_len):\n",
    "        tmp = df[idx: (idx + window_len)].copy()\n",
    "        if zero_base:\n",
    "            tmp = normalise_zero_base(tmp)\n",
    "        window_data.append(tmp.values)\n",
    "    return np.array(window_data)"
   ]
  },
  {
   "cell_type": "code",
   "execution_count": 170,
   "metadata": {},
   "outputs": [],
   "source": [
    "def prepare_data(df, target_col, window_len=10, zero_base=True, test_size=0.2):\n",
    "    train_data, test_data = train_test_split(df, test_size=test_size)\n",
    "    X_train = extract_window_data(train_data, window_len, zero_base)\n",
    "    X_test = extract_window_data(test_data, window_len, zero_base)\n",
    "    y_train = train_data[target_col][window_len:].values\n",
    "    y_test = test_data[target_col][window_len:].values\n",
    "    if zero_base:\n",
    "        y_train = y_train / train_data[target_col][:-window_len].values - 1\n",
    "        y_test = y_test / test_data[target_col][:-window_len].values - 1\n",
    "    return train_data, test_data, X_train, X_test, y_train, y_test"
   ]
  },
  {
   "cell_type": "code",
   "execution_count": 171,
   "metadata": {},
   "outputs": [],
   "source": [
    "def build_lstm_model(input_data, output_size, neurons=100, activ_func='linear', dropout=0.2, loss='mse', optimizer='adam'):\n",
    "    model = Sequential()\n",
    "    model.add(LSTM(neurons, input_shape=(input_data.shape[1], input_data.shape[2])))\n",
    "    model.add(Dropout(dropout))\n",
    "    model.add(Dense(units=output_size))\n",
    "    model.add(Activation(activ_func))\n",
    "    model.compile(loss=loss, optimizer=optimizer)\n",
    "    return model"
   ]
  },
  {
   "cell_type": "code",
   "execution_count": 172,
   "metadata": {},
   "outputs": [],
   "source": [
    "from keras.layers import Dense, LSTM, Activation"
   ]
  },
  {
   "attachments": {},
   "cell_type": "markdown",
   "metadata": {},
   "source": [
    "[GridSearch](https://machinelearningmastery.com/grid-search-hyperparameters-deep-learning-models-python-keras/)"
   ]
  },
  {
   "cell_type": "code",
   "execution_count": 173,
   "metadata": {},
   "outputs": [],
   "source": [
    "np.random.seed(42)\n",
    "window_len = 5\n",
    "test_size = 0.2\n",
    "zero_base = True\n",
    "lstm_neurons = 100\n",
    "epochs = 20\n",
    "batch_size = 32\n",
    "loss = 'mse'\n",
    "dropout = 0.2\n",
    "optimizer = 'adam'"
   ]
  },
  {
   "cell_type": "code",
   "execution_count": 174,
   "metadata": {},
   "outputs": [],
   "source": [
    "train, test, X_train, X_test, y_train, y_test = prepare_data(hist, target_col, window_len=window_len, zero_base=zero_base, test_size=test_size)\n"
   ]
  },
  {
   "cell_type": "code",
   "execution_count": 175,
   "metadata": {},
   "outputs": [],
   "source": [
    "model = build_lstm_model(X_train, output_size=1, neurons=lstm_neurons, dropout=dropout, loss=loss, optimizer=optimizer)\n"
   ]
  },
  {
   "cell_type": "code",
   "execution_count": 176,
   "metadata": {},
   "outputs": [
    {
     "name": "stdout",
     "output_type": "stream",
     "text": [
      "Epoch 1/20\n",
      "47/47 [==============================] - 3s 6ms/step - loss: 7.8320e-05\n",
      "Epoch 2/20\n",
      "47/47 [==============================] - 0s 6ms/step - loss: 3.5200e-05\n",
      "Epoch 3/20\n",
      "47/47 [==============================] - 0s 8ms/step - loss: 3.1746e-05\n",
      "Epoch 4/20\n",
      "47/47 [==============================] - 0s 8ms/step - loss: 2.8286e-05\n",
      "Epoch 5/20\n",
      "47/47 [==============================] - 0s 9ms/step - loss: 2.7097e-05\n",
      "Epoch 6/20\n",
      "47/47 [==============================] - 0s 8ms/step - loss: 2.7705e-05\n",
      "Epoch 7/20\n",
      "47/47 [==============================] - 0s 8ms/step - loss: 2.5054e-05\n",
      "Epoch 8/20\n",
      "47/47 [==============================] - 0s 7ms/step - loss: 2.3965e-05\n",
      "Epoch 9/20\n",
      "47/47 [==============================] - 0s 8ms/step - loss: 2.4504e-05\n",
      "Epoch 10/20\n",
      "47/47 [==============================] - 0s 8ms/step - loss: 2.1946e-05\n",
      "Epoch 11/20\n",
      "47/47 [==============================] - 0s 9ms/step - loss: 2.1349e-05\n",
      "Epoch 12/20\n",
      "47/47 [==============================] - 0s 8ms/step - loss: 2.0906e-05\n",
      "Epoch 13/20\n",
      "47/47 [==============================] - 0s 9ms/step - loss: 2.0403e-05\n",
      "Epoch 14/20\n",
      "47/47 [==============================] - 0s 7ms/step - loss: 1.9875e-05\n",
      "Epoch 15/20\n",
      "47/47 [==============================] - 0s 7ms/step - loss: 1.9216e-05\n",
      "Epoch 16/20\n",
      "47/47 [==============================] - 0s 7ms/step - loss: 1.8265e-05\n",
      "Epoch 17/20\n",
      "47/47 [==============================] - 0s 7ms/step - loss: 1.8091e-05\n",
      "Epoch 18/20\n",
      "47/47 [==============================] - 0s 7ms/step - loss: 1.8216e-05\n",
      "Epoch 19/20\n",
      "47/47 [==============================] - 0s 7ms/step - loss: 1.8787e-05\n",
      "Epoch 20/20\n",
      "47/47 [==============================] - 0s 7ms/step - loss: 1.8523e-05\n"
     ]
    }
   ],
   "source": [
    "history = model.fit(X_train, y_train, epochs=epochs, batch_size=batch_size, verbose=1, shuffle=True)"
   ]
  },
  {
   "cell_type": "code",
   "execution_count": 177,
   "metadata": {},
   "outputs": [],
   "source": [
    "from sklearn.metrics import mean_absolute_error"
   ]
  },
  {
   "cell_type": "code",
   "execution_count": 178,
   "metadata": {},
   "outputs": [
    {
     "name": "stdout",
     "output_type": "stream",
     "text": [
      "12/12 [==============================] - 1s 4ms/step\n"
     ]
    },
    {
     "data": {
      "text/plain": [
       "0.0021467962235353125"
      ]
     },
     "execution_count": 178,
     "metadata": {},
     "output_type": "execute_result"
    }
   ],
   "source": [
    "targets = test[target_col][window_len:]\n",
    "preds = model.predict(X_test).squeeze()\n",
    "mean_absolute_error(preds, y_test)"
   ]
  },
  {
   "cell_type": "code",
   "execution_count": 179,
   "metadata": {},
   "outputs": [
    {
     "data": {
      "image/png": "[encoded data removed]",
      "text/plain": [
       "<Figure size 936x504 with 1 Axes>"
      ]
     },
     "metadata": {
      "needs_background": "light"
     },
     "output_type": "display_data"
    }
   ],
   "source": [
    "preds = test[target_col].values[:-window_len] * (preds + 1)\n",
    "preds = pd.Series(index=targets.index, data=preds)\n",
    "line_plot(targets, preds, 'actual', 'prediction', lw=3)"
   ]
  },
  {
   "cell_type": "code",
   "execution_count": null,
   "metadata": {},
   "outputs": [],
   "source": [
    "\"\"\"def train_test_validation_split(df, validation_size=0.6, validation_size=0.2):\n",
    "    split_row = int(test_size * len(df))\n",
    "    split_row_2 = len(df) - int(_size * len(df))\n",
    "    train_data = df.iloc[:split_row]\n",
    "    test_data = df.iloc[split_row:]\n",
    "    return train_data, test_data\n",
    "train, test = train_test_split(hist, test_size=0.2)\"\"\""
   ]
  },
  {
   "attachments": {},
   "cell_type": "markdown",
   "metadata": {},
   "source": [
    "# Test 4"
   ]
  },
  {
   "cell_type": "code",
   "execution_count": 190,
   "metadata": {},
   "outputs": [
    {
     "data": {
      "text/plain": [
       "array([[0.30721246, 0.29277004, 0.33769921, 0.30643021, 0.30643021],\n",
       "       [0.30512138, 0.31140885, 0.32859344, 0.30473638, 0.30473638],\n",
       "       [0.32208187, 0.31393196, 0.32826347, 0.31818761, 0.31818761],\n",
       "       ...,\n",
       "       [0.2976204 , 0.28664654, 0.2952061 , 0.29719651, 0.29719651],\n",
       "       [0.23160405, 0.25185875, 0.24337675, 0.23146669, 0.23146669],\n",
       "       [0.26014796, 0.28910268, 0.28784927, 0.25840281, 0.25840281]])"
      ]
     },
     "execution_count": 190,
     "metadata": {},
     "output_type": "execute_result"
    }
   ],
   "source": [
    "\n",
    "scaler = MinMaxScaler()\n",
    "training_data = scaler.fit_transform(eur_cad)\n",
    "training_data"
   ]
  },
  {
   "cell_type": "code",
   "execution_count": 191,
   "metadata": {},
   "outputs": [
    {
     "data": {
      "text/plain": [
       "(1812, 60, 5)"
      ]
     },
     "execution_count": 191,
     "metadata": {},
     "output_type": "execute_result"
    }
   ],
   "source": [
    "X_train = [] \n",
    "Y_train = []\n",
    "\n",
    "training_data.shape[0]\n",
    "\n",
    "for i in range(60, training_data.shape[0]):\n",
    "\n",
    " X_train.append(training_data[i-60:i])\n",
    "\n",
    "Y_train.append(training_data[i,0])\n",
    "\n",
    "X_train, Y_train = np.array(X_train), np.array(Y_train)\n",
    "X_train.shape"
   ]
  },
  {
   "cell_type": "code",
   "execution_count": 200,
   "metadata": {},
   "outputs": [
    {
     "name": "stdout",
     "output_type": "stream",
     "text": [
      "Model: \"sequential_27\"\n",
      "_________________________________________________________________\n",
      " Layer (type)                Output Shape              Param #   \n",
      "=================================================================\n",
      " lstm_63 (LSTM)              (None, 60, 50)            11000     \n",
      "                                                                 \n",
      " dropout_44 (Dropout)        (None, 60, 50)            0         \n",
      "                                                                 \n",
      " lstm_64 (LSTM)              (None, 60, 60)            26640     \n",
      "                                                                 \n",
      " dropout_45 (Dropout)        (None, 60, 60)            0         \n",
      "                                                                 \n",
      " lstm_65 (LSTM)              (None, 60, 80)            45120     \n",
      "                                                                 \n",
      " dropout_46 (Dropout)        (None, 60, 80)            0         \n",
      "                                                                 \n",
      " lstm_66 (LSTM)              (None, 120)               96480     \n",
      "                                                                 \n",
      " dropout_47 (Dropout)        (None, 120)               0         \n",
      "                                                                 \n",
      " dense_28 (Dense)            (None, 1)                 121       \n",
      "                                                                 \n",
      "=================================================================\n",
      "Total params: 179,361\n",
      "Trainable params: 179,361\n",
      "Non-trainable params: 0\n",
      "_________________________________________________________________\n"
     ]
    }
   ],
   "source": [
    "from tensorflow.keras import Sequential\n",
    "\n",
    "from tensorflow.keras.layers import Dense, LSTM, Dropout\n",
    "\n",
    "#Initialize the RNN\n",
    "\n",
    "model = Sequential() \n",
    "model.add(LSTM(units = 50, activation = 'relu', return_sequences = True, input_shape = (X_train.shape[1], 5)))\n",
    "\n",
    "model.add(Dropout(0.2)) \n",
    "model.add(LSTM(units = 60, activation = 'relu', return_sequences = True))\n",
    "\n",
    "model.add(Dropout(0.3)) \n",
    "model.add(LSTM(units = 80, activation = 'relu', return_sequences = True))\n",
    "\n",
    "model.add(Dropout(0.4)) \n",
    "model.add(LSTM(units = 120, activation = 'relu'))\n",
    "\n",
    "model.add(Dropout(0.5)) \n",
    "model.add(Dense(units =1))\n",
    "\n",
    "model.summary()"
   ]
  },
  {
   "cell_type": "code",
   "execution_count": 201,
   "metadata": {},
   "outputs": [],
   "source": [
    "model.compile(optimizer = 'adam', loss = 'mean_squared_error')"
   ]
  },
  {
   "cell_type": "code",
   "execution_count": 202,
   "metadata": {},
   "outputs": [
    {
     "ename": "ValueError",
     "evalue": "Data cardinality is ambiguous:\n  x sizes: 1630\n  y sizes: 1\nMake sure all arrays contain the same number of samples.",
     "output_type": "error",
     "traceback": [
      "\u001b[1;31m---------------------------------------------------------------------------\u001b[0m",
      "\u001b[1;31mValueError\u001b[0m                                Traceback (most recent call last)",
      "\u001b[1;32mc:\\Users\\louis\\Documents\\UTC\\UQAC\\H23\\AtelierPratiqueEnIA\\AtelierPratiqueEnIA\\2.LSTM.ipynb Cell 51\u001b[0m in \u001b[0;36m<cell line: 1>\u001b[1;34m()\u001b[0m\n\u001b[1;32m----> <a href='vscode-notebook-cell:/c%3A/Users/louis/Documents/UTC/UQAC/H23/AtelierPratiqueEnIA/AtelierPratiqueEnIA/2.LSTM.ipynb#Y103sZmlsZQ%3D%3D?line=0'>1</a>\u001b[0m history\u001b[39m=\u001b[39m model\u001b[39m.\u001b[39;49mfit(X_train, Y_train, epochs \u001b[39m=\u001b[39;49m \u001b[39m20\u001b[39;49m, batch_size \u001b[39m=\u001b[39;49m\u001b[39m50\u001b[39;49m, validation_split\u001b[39m=\u001b[39;49m\u001b[39m0.1\u001b[39;49m)\n",
      "File \u001b[1;32m~\\AppData\\Local\\Packages\\PythonSoftwareFoundation.Python.3.10_qbz5n2kfra8p0\\LocalCache\\local-packages\\Python310\\site-packages\\keras\\utils\\traceback_utils.py:70\u001b[0m, in \u001b[0;36mfilter_traceback.<locals>.error_handler\u001b[1;34m(*args, **kwargs)\u001b[0m\n\u001b[0;32m     67\u001b[0m     filtered_tb \u001b[39m=\u001b[39m _process_traceback_frames(e\u001b[39m.\u001b[39m__traceback__)\n\u001b[0;32m     68\u001b[0m     \u001b[39m# To get the full stack trace, call:\u001b[39;00m\n\u001b[0;32m     69\u001b[0m     \u001b[39m# `tf.debugging.disable_traceback_filtering()`\u001b[39;00m\n\u001b[1;32m---> 70\u001b[0m     \u001b[39mraise\u001b[39;00m e\u001b[39m.\u001b[39mwith_traceback(filtered_tb) \u001b[39mfrom\u001b[39;00m \u001b[39mNone\u001b[39m\n\u001b[0;32m     71\u001b[0m \u001b[39mfinally\u001b[39;00m:\n\u001b[0;32m     72\u001b[0m     \u001b[39mdel\u001b[39;00m filtered_tb\n",
      "File \u001b[1;32m~\\AppData\\Local\\Packages\\PythonSoftwareFoundation.Python.3.10_qbz5n2kfra8p0\\LocalCache\\local-packages\\Python310\\site-packages\\keras\\engine\\data_adapter.py:1851\u001b[0m, in \u001b[0;36m_check_data_cardinality\u001b[1;34m(data)\u001b[0m\n\u001b[0;32m   1847\u001b[0m         msg \u001b[39m+\u001b[39m\u001b[39m=\u001b[39m \u001b[39m\"\u001b[39m\u001b[39mMake sure all arrays contain the same number of samples.\u001b[39m\u001b[39m\"\u001b[39m\n\u001b[0;32m   1848\u001b[0m         \u001b[39mraise\u001b[39;00m \u001b[39mValueError\u001b[39;00m(msg)\n\u001b[1;32m-> 1851\u001b[0m \u001b[39mdef\u001b[39;00m \u001b[39m_get_tensor_types\u001b[39m():\n\u001b[0;32m   1852\u001b[0m     \u001b[39mif\u001b[39;00m pd \u001b[39mis\u001b[39;00m \u001b[39mNone\u001b[39;00m:\n\u001b[0;32m   1853\u001b[0m         \u001b[39mreturn\u001b[39;00m (tf\u001b[39m.\u001b[39mTensor, np\u001b[39m.\u001b[39mndarray)\n",
      "\u001b[1;31mValueError\u001b[0m: Data cardinality is ambiguous:\n  x sizes: 1630\n  y sizes: 1\nMake sure all arrays contain the same number of samples."
     ]
    }
   ],
   "source": [
    "history= model.fit(X_train, Y_train, epochs = 20, batch_size =50, validation_split=0.1)"
   ]
  },
  {
   "cell_type": "code",
   "execution_count": 195,
   "metadata": {},
   "outputs": [
    {
     "ename": "KeyError",
     "evalue": "'val_loss'",
     "output_type": "error",
     "traceback": [
      "\u001b[1;31m---------------------------------------------------------------------------\u001b[0m",
      "\u001b[1;31mKeyError\u001b[0m                                  Traceback (most recent call last)",
      "\u001b[1;32mc:\\Users\\louis\\Documents\\UTC\\UQAC\\H23\\AtelierPratiqueEnIA\\AtelierPratiqueEnIA\\2.LSTM.ipynb Cell 52\u001b[0m in \u001b[0;36m<cell line: 2>\u001b[1;34m()\u001b[0m\n\u001b[0;32m      <a href='vscode-notebook-cell:/c%3A/Users/louis/Documents/UTC/UQAC/H23/AtelierPratiqueEnIA/AtelierPratiqueEnIA/2.LSTM.ipynb#Y104sZmlsZQ%3D%3D?line=0'>1</a>\u001b[0m loss \u001b[39m=\u001b[39m history\u001b[39m.\u001b[39mhistory[\u001b[39m'\u001b[39m\u001b[39mloss\u001b[39m\u001b[39m'\u001b[39m]\n\u001b[1;32m----> <a href='vscode-notebook-cell:/c%3A/Users/louis/Documents/UTC/UQAC/H23/AtelierPratiqueEnIA/AtelierPratiqueEnIA/2.LSTM.ipynb#Y104sZmlsZQ%3D%3D?line=1'>2</a>\u001b[0m val_loss \u001b[39m=\u001b[39m history\u001b[39m.\u001b[39;49mhistory[\u001b[39m'\u001b[39;49m\u001b[39mval_loss\u001b[39;49m\u001b[39m'\u001b[39;49m]\n\u001b[0;32m      <a href='vscode-notebook-cell:/c%3A/Users/louis/Documents/UTC/UQAC/H23/AtelierPratiqueEnIA/AtelierPratiqueEnIA/2.LSTM.ipynb#Y104sZmlsZQ%3D%3D?line=2'>3</a>\u001b[0m epochs \u001b[39m=\u001b[39m \u001b[39mrange\u001b[39m(\u001b[39mlen\u001b[39m(loss))\n\u001b[0;32m      <a href='vscode-notebook-cell:/c%3A/Users/louis/Documents/UTC/UQAC/H23/AtelierPratiqueEnIA/AtelierPratiqueEnIA/2.LSTM.ipynb#Y104sZmlsZQ%3D%3D?line=3'>4</a>\u001b[0m plt\u001b[39m.\u001b[39mfigure()\n",
      "\u001b[1;31mKeyError\u001b[0m: 'val_loss'"
     ]
    }
   ],
   "source": [
    "loss = history.history['loss']\n",
    "val_loss = history.history['val_loss']\n",
    "epochs = range(len(loss))\n",
    "plt.figure()\n",
    "plt.plot(epochs, loss, 'b', label='Training loss')\n",
    "plt.plot(epochs, val_loss, 'r', label='Validation loss')\n",
    "plt.title(\"Training and Validation Loss\")\n",
    "plt.legend()\n",
    "plt.show()"
   ]
  },
  {
   "cell_type": "code",
   "execution_count": 196,
   "metadata": {},
   "outputs": [
    {
     "ename": "NameError",
     "evalue": "name 'data_training' is not defined",
     "output_type": "error",
     "traceback": [
      "\u001b[1;31m---------------------------------------------------------------------------\u001b[0m",
      "\u001b[1;31mNameError\u001b[0m                                 Traceback (most recent call last)",
      "\u001b[1;32mc:\\Users\\louis\\Documents\\UTC\\UQAC\\H23\\AtelierPratiqueEnIA\\AtelierPratiqueEnIA\\2.LSTM.ipynb Cell 53\u001b[0m in \u001b[0;36m<cell line: 1>\u001b[1;34m()\u001b[0m\n\u001b[1;32m----> <a href='vscode-notebook-cell:/c%3A/Users/louis/Documents/UTC/UQAC/H23/AtelierPratiqueEnIA/AtelierPratiqueEnIA/2.LSTM.ipynb#Y105sZmlsZQ%3D%3D?line=0'>1</a>\u001b[0m part_60_days \u001b[39m=\u001b[39m data_training\u001b[39m.\u001b[39mtail(\u001b[39m60\u001b[39m)\n\u001b[0;32m      <a href='vscode-notebook-cell:/c%3A/Users/louis/Documents/UTC/UQAC/H23/AtelierPratiqueEnIA/AtelierPratiqueEnIA/2.LSTM.ipynb#Y105sZmlsZQ%3D%3D?line=1'>2</a>\u001b[0m df\u001b[39m=\u001b[39m part_60_days\u001b[39m.\u001b[39mappend(data_test, ignore_index \u001b[39m=\u001b[39m \u001b[39mTrue\u001b[39;00m)\n\u001b[0;32m      <a href='vscode-notebook-cell:/c%3A/Users/louis/Documents/UTC/UQAC/H23/AtelierPratiqueEnIA/AtelierPratiqueEnIA/2.LSTM.ipynb#Y105sZmlsZQ%3D%3D?line=2'>3</a>\u001b[0m df \u001b[39m=\u001b[39m df\u001b[39m.\u001b[39mdrop([\u001b[39m'\u001b[39m\u001b[39mDate\u001b[39m\u001b[39m'\u001b[39m, \u001b[39m'\u001b[39m\u001b[39mAdj Close\u001b[39m\u001b[39m'\u001b[39m], axis \u001b[39m=\u001b[39m \u001b[39m1\u001b[39m)\n",
      "\u001b[1;31mNameError\u001b[0m: name 'data_training' is not defined"
     ]
    }
   ],
   "source": [
    "part_60_days = data_training.tail(60)\n",
    "df= part_60_days.append(data_test, ignore_index = True)\n",
    "df = df.drop(['Date', 'Adj Close'], axis = 1)\n",
    "df.head()"
   ]
  },
  {
   "cell_type": "code",
   "execution_count": null,
   "metadata": {},
   "outputs": [],
   "source": [
    "inputs = scaler.transform(df) inputs"
   ]
  },
  {
   "cell_type": "code",
   "execution_count": null,
   "metadata": {},
   "outputs": [],
   "source": [
    "X_test = []\n",
    "\n",
    "Y_test = []\n",
    "\n",
    "for i in range (60, inputs.shape[0]):\n",
    "\n",
    "    X_test.append(inputs[i-60:i]) Y_test.append(inputs[i, 0])\n",
    "\n",
    "    X_test, Y_test = np.array(X_test), np.array(Y_test) X_test.shape, Y_test.shape\n",
    "\n",
    "    Y_pred = regressor.predict(X_test) Y_pred, Y_test\n",
    "\n",
    "scaler.scale_"
   ]
  },
  {
   "attachments": {},
   "cell_type": "markdown",
   "metadata": {},
   "source": [
    "# Retour\n",
    "- test split training validation test (chronological data)\n",
    "- gridsearch ou pipeline (pi)"
   ]
  }
 ],
 "metadata": {
  "kernelspec": {
   "display_name": "Python 3",
   "language": "python",
   "name": "python3"
  },
  "language_info": {
   "codemirror_mode": {
    "name": "ipython",
    "version": 3
   },
   "file_extension": ".py",
   "mimetype": "text/x-python",
   "name": "python",
   "nbconvert_exporter": "python",
   "pygments_lexer": "ipython3",
   "version": "3.10.10"
  },
  "orig_nbformat": 4
 },
 "nbformat": 4,
 "nbformat_minor": 2
}
